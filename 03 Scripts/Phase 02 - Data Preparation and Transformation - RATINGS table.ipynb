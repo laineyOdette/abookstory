{
 "cells": [
  {
   "cell_type": "markdown",
   "id": "0433ea72",
   "metadata": {},
   "source": [
    "# 00. Table of Contents"
   ]
  },
  {
   "cell_type": "markdown",
   "id": "7dc2855b",
   "metadata": {},
   "source": [
    "01. Notebook Setup\n",
    "\n",
    "- Import libraries\n",
    "- Import dataset as dataframe\n",
    "\n",
    "02. Data Exploration and Profiling\n",
    "\n",
    "- Data Quality and Consistency Checks\n",
    "- Descriptive Analysis\n",
    "- Observations from Exploration\n",
    "\n",
    "03. Data Cleaning\n",
    "\n",
    "- Unnecessary columns/variables\n",
    "- Missing data\n",
    "- Duplicates\n",
    "- Inaccurate/inconsistent data\n",
    "- Mixed-type columns\n",
    "- Outliers\n",
    "- Unclear column headers\n",
    "- Data Profiling Re-checks\n",
    "\n",
    "04. Data Transformation\n",
    "\n",
    "- New columns / calculations\n",
    "- Joining or merging tables\n",
    "- Data Profiling Re-checks\n",
    "\n",
    "05. Export Dataframe"
   ]
  },
  {
   "cell_type": "markdown",
   "id": "8f10bcc2",
   "metadata": {},
   "source": [
    "# 01. Notebook Setup"
   ]
  },
  {
   "cell_type": "markdown",
   "id": "325ecd24",
   "metadata": {},
   "source": [
    "## 01.1 Import libraries"
   ]
  },
  {
   "cell_type": "code",
   "execution_count": 1,
   "id": "f29f33b8",
   "metadata": {},
   "outputs": [],
   "source": [
    "# Import libraries\n",
    "\n",
    "import pandas as pd\n",
    "import numpy as np\n",
    "import os\n"
   ]
  },
  {
   "cell_type": "markdown",
   "id": "077d6e9f",
   "metadata": {},
   "source": [
    "## 01.2 Import dataset as dataframe"
   ]
  },
  {
   "cell_type": "code",
   "execution_count": 2,
   "id": "1230931a",
   "metadata": {},
   "outputs": [],
   "source": [
    "# Create quick path to project folder\n",
    "\n",
    "projpath = r'/Users/laineyodette/Documents/_proDocs/professional development/Learning/Learning - Data Analytics/CareerFoundry - Become a Data Analyst/Data Immersion Course/A6 - Advanced Analytics and Dashboard Design/Book Project'\n"
   ]
  },
  {
   "cell_type": "code",
   "execution_count": 3,
   "id": "5362b9ce",
   "metadata": {},
   "outputs": [],
   "source": [
    "# Import RATINGS dataset as dataframe\n",
    "\n",
    "df_Ratings = pd.read_csv(os.path.join(projpath, '02 Data', 'Dataset ORIGINAL', 'Ratings.csv'), index_col = False)\n"
   ]
  },
  {
   "cell_type": "markdown",
   "id": "b12f24d1",
   "metadata": {},
   "source": [
    "# 02. Data Exploration and Profiling"
   ]
  },
  {
   "cell_type": "markdown",
   "id": "2f95c7ad",
   "metadata": {},
   "source": [
    "## Data Quality and Consistency Checks"
   ]
  },
  {
   "cell_type": "code",
   "execution_count": 4,
   "id": "9656cc0a",
   "metadata": {},
   "outputs": [
    {
     "data": {
      "text/plain": [
       "(1149780, 3)"
      ]
     },
     "execution_count": 4,
     "metadata": {},
     "output_type": "execute_result"
    }
   ],
   "source": [
    "# Check dimensions of df\n",
    "\n",
    "df_Ratings.shape"
   ]
  },
  {
   "cell_type": "code",
   "execution_count": 5,
   "id": "ce91f691",
   "metadata": {},
   "outputs": [
    {
     "data": {
      "text/html": [
       "<div>\n",
       "<style scoped>\n",
       "    .dataframe tbody tr th:only-of-type {\n",
       "        vertical-align: middle;\n",
       "    }\n",
       "\n",
       "    .dataframe tbody tr th {\n",
       "        vertical-align: top;\n",
       "    }\n",
       "\n",
       "    .dataframe thead th {\n",
       "        text-align: right;\n",
       "    }\n",
       "</style>\n",
       "<table border=\"1\" class=\"dataframe\">\n",
       "  <thead>\n",
       "    <tr style=\"text-align: right;\">\n",
       "      <th></th>\n",
       "      <th>User-ID</th>\n",
       "      <th>ISBN</th>\n",
       "      <th>Book-Rating</th>\n",
       "    </tr>\n",
       "  </thead>\n",
       "  <tbody>\n",
       "    <tr>\n",
       "      <th>0</th>\n",
       "      <td>276725</td>\n",
       "      <td>034545104X</td>\n",
       "      <td>0</td>\n",
       "    </tr>\n",
       "    <tr>\n",
       "      <th>1</th>\n",
       "      <td>276726</td>\n",
       "      <td>0155061224</td>\n",
       "      <td>5</td>\n",
       "    </tr>\n",
       "    <tr>\n",
       "      <th>2</th>\n",
       "      <td>276727</td>\n",
       "      <td>0446520802</td>\n",
       "      <td>0</td>\n",
       "    </tr>\n",
       "    <tr>\n",
       "      <th>3</th>\n",
       "      <td>276729</td>\n",
       "      <td>052165615X</td>\n",
       "      <td>3</td>\n",
       "    </tr>\n",
       "    <tr>\n",
       "      <th>4</th>\n",
       "      <td>276729</td>\n",
       "      <td>0521795028</td>\n",
       "      <td>6</td>\n",
       "    </tr>\n",
       "    <tr>\n",
       "      <th>5</th>\n",
       "      <td>276733</td>\n",
       "      <td>2080674722</td>\n",
       "      <td>0</td>\n",
       "    </tr>\n",
       "    <tr>\n",
       "      <th>6</th>\n",
       "      <td>276736</td>\n",
       "      <td>3257224281</td>\n",
       "      <td>8</td>\n",
       "    </tr>\n",
       "    <tr>\n",
       "      <th>7</th>\n",
       "      <td>276737</td>\n",
       "      <td>0600570967</td>\n",
       "      <td>6</td>\n",
       "    </tr>\n",
       "    <tr>\n",
       "      <th>8</th>\n",
       "      <td>276744</td>\n",
       "      <td>038550120X</td>\n",
       "      <td>7</td>\n",
       "    </tr>\n",
       "    <tr>\n",
       "      <th>9</th>\n",
       "      <td>276745</td>\n",
       "      <td>342310538</td>\n",
       "      <td>10</td>\n",
       "    </tr>\n",
       "    <tr>\n",
       "      <th>10</th>\n",
       "      <td>276746</td>\n",
       "      <td>0425115801</td>\n",
       "      <td>0</td>\n",
       "    </tr>\n",
       "    <tr>\n",
       "      <th>11</th>\n",
       "      <td>276746</td>\n",
       "      <td>0449006522</td>\n",
       "      <td>0</td>\n",
       "    </tr>\n",
       "    <tr>\n",
       "      <th>12</th>\n",
       "      <td>276746</td>\n",
       "      <td>0553561618</td>\n",
       "      <td>0</td>\n",
       "    </tr>\n",
       "    <tr>\n",
       "      <th>13</th>\n",
       "      <td>276746</td>\n",
       "      <td>055356451X</td>\n",
       "      <td>0</td>\n",
       "    </tr>\n",
       "    <tr>\n",
       "      <th>14</th>\n",
       "      <td>276746</td>\n",
       "      <td>0786013990</td>\n",
       "      <td>0</td>\n",
       "    </tr>\n",
       "    <tr>\n",
       "      <th>15</th>\n",
       "      <td>276746</td>\n",
       "      <td>0786014512</td>\n",
       "      <td>0</td>\n",
       "    </tr>\n",
       "    <tr>\n",
       "      <th>16</th>\n",
       "      <td>276747</td>\n",
       "      <td>0060517794</td>\n",
       "      <td>9</td>\n",
       "    </tr>\n",
       "    <tr>\n",
       "      <th>17</th>\n",
       "      <td>276747</td>\n",
       "      <td>0451192001</td>\n",
       "      <td>0</td>\n",
       "    </tr>\n",
       "    <tr>\n",
       "      <th>18</th>\n",
       "      <td>276747</td>\n",
       "      <td>0609801279</td>\n",
       "      <td>0</td>\n",
       "    </tr>\n",
       "    <tr>\n",
       "      <th>19</th>\n",
       "      <td>276747</td>\n",
       "      <td>0671537458</td>\n",
       "      <td>9</td>\n",
       "    </tr>\n",
       "    <tr>\n",
       "      <th>20</th>\n",
       "      <td>276747</td>\n",
       "      <td>0679776818</td>\n",
       "      <td>8</td>\n",
       "    </tr>\n",
       "    <tr>\n",
       "      <th>21</th>\n",
       "      <td>276747</td>\n",
       "      <td>0943066433</td>\n",
       "      <td>7</td>\n",
       "    </tr>\n",
       "    <tr>\n",
       "      <th>22</th>\n",
       "      <td>276747</td>\n",
       "      <td>1570231028</td>\n",
       "      <td>0</td>\n",
       "    </tr>\n",
       "    <tr>\n",
       "      <th>23</th>\n",
       "      <td>276747</td>\n",
       "      <td>1885408226</td>\n",
       "      <td>7</td>\n",
       "    </tr>\n",
       "    <tr>\n",
       "      <th>24</th>\n",
       "      <td>276748</td>\n",
       "      <td>0747558167</td>\n",
       "      <td>6</td>\n",
       "    </tr>\n",
       "  </tbody>\n",
       "</table>\n",
       "</div>"
      ],
      "text/plain": [
       "    User-ID        ISBN  Book-Rating\n",
       "0    276725  034545104X            0\n",
       "1    276726  0155061224            5\n",
       "2    276727  0446520802            0\n",
       "3    276729  052165615X            3\n",
       "4    276729  0521795028            6\n",
       "5    276733  2080674722            0\n",
       "6    276736  3257224281            8\n",
       "7    276737  0600570967            6\n",
       "8    276744  038550120X            7\n",
       "9    276745   342310538           10\n",
       "10   276746  0425115801            0\n",
       "11   276746  0449006522            0\n",
       "12   276746  0553561618            0\n",
       "13   276746  055356451X            0\n",
       "14   276746  0786013990            0\n",
       "15   276746  0786014512            0\n",
       "16   276747  0060517794            9\n",
       "17   276747  0451192001            0\n",
       "18   276747  0609801279            0\n",
       "19   276747  0671537458            9\n",
       "20   276747  0679776818            8\n",
       "21   276747  0943066433            7\n",
       "22   276747  1570231028            0\n",
       "23   276747  1885408226            7\n",
       "24   276748  0747558167            6"
      ]
     },
     "execution_count": 5,
     "metadata": {},
     "output_type": "execute_result"
    }
   ],
   "source": [
    "# Check output - view current column headers and preview\n",
    "\n",
    "df_Ratings.head(25)"
   ]
  },
  {
   "cell_type": "code",
   "execution_count": 6,
   "id": "1ed9d1f9",
   "metadata": {},
   "outputs": [
    {
     "data": {
      "text/html": [
       "<div>\n",
       "<style scoped>\n",
       "    .dataframe tbody tr th:only-of-type {\n",
       "        vertical-align: middle;\n",
       "    }\n",
       "\n",
       "    .dataframe tbody tr th {\n",
       "        vertical-align: top;\n",
       "    }\n",
       "\n",
       "    .dataframe thead th {\n",
       "        text-align: right;\n",
       "    }\n",
       "</style>\n",
       "<table border=\"1\" class=\"dataframe\">\n",
       "  <thead>\n",
       "    <tr style=\"text-align: right;\">\n",
       "      <th></th>\n",
       "      <th>User-ID</th>\n",
       "      <th>ISBN</th>\n",
       "      <th>Book-Rating</th>\n",
       "    </tr>\n",
       "  </thead>\n",
       "  <tbody>\n",
       "    <tr>\n",
       "      <th>1149755</th>\n",
       "      <td>276690</td>\n",
       "      <td>0590464116</td>\n",
       "      <td>0</td>\n",
       "    </tr>\n",
       "    <tr>\n",
       "      <th>1149756</th>\n",
       "      <td>276690</td>\n",
       "      <td>0590581066</td>\n",
       "      <td>0</td>\n",
       "    </tr>\n",
       "    <tr>\n",
       "      <th>1149757</th>\n",
       "      <td>276690</td>\n",
       "      <td>0590907301</td>\n",
       "      <td>0</td>\n",
       "    </tr>\n",
       "    <tr>\n",
       "      <th>1149758</th>\n",
       "      <td>276697</td>\n",
       "      <td>8445072897</td>\n",
       "      <td>0</td>\n",
       "    </tr>\n",
       "    <tr>\n",
       "      <th>1149759</th>\n",
       "      <td>276704</td>\n",
       "      <td>0152022597</td>\n",
       "      <td>0</td>\n",
       "    </tr>\n",
       "    <tr>\n",
       "      <th>1149760</th>\n",
       "      <td>276704</td>\n",
       "      <td>0312873115</td>\n",
       "      <td>0</td>\n",
       "    </tr>\n",
       "    <tr>\n",
       "      <th>1149761</th>\n",
       "      <td>276704</td>\n",
       "      <td>0345386108</td>\n",
       "      <td>6</td>\n",
       "    </tr>\n",
       "    <tr>\n",
       "      <th>1149762</th>\n",
       "      <td>276704</td>\n",
       "      <td>0380796155</td>\n",
       "      <td>5</td>\n",
       "    </tr>\n",
       "    <tr>\n",
       "      <th>1149763</th>\n",
       "      <td>276704</td>\n",
       "      <td>0395404258</td>\n",
       "      <td>0</td>\n",
       "    </tr>\n",
       "    <tr>\n",
       "      <th>1149764</th>\n",
       "      <td>276704</td>\n",
       "      <td>0425060772</td>\n",
       "      <td>0</td>\n",
       "    </tr>\n",
       "    <tr>\n",
       "      <th>1149765</th>\n",
       "      <td>276704</td>\n",
       "      <td>0440206529</td>\n",
       "      <td>0</td>\n",
       "    </tr>\n",
       "    <tr>\n",
       "      <th>1149766</th>\n",
       "      <td>276704</td>\n",
       "      <td>0441007813</td>\n",
       "      <td>0</td>\n",
       "    </tr>\n",
       "    <tr>\n",
       "      <th>1149767</th>\n",
       "      <td>276704</td>\n",
       "      <td>0446353957</td>\n",
       "      <td>0</td>\n",
       "    </tr>\n",
       "    <tr>\n",
       "      <th>1149768</th>\n",
       "      <td>276704</td>\n",
       "      <td>0446605409</td>\n",
       "      <td>0</td>\n",
       "    </tr>\n",
       "    <tr>\n",
       "      <th>1149769</th>\n",
       "      <td>276704</td>\n",
       "      <td>059032120X</td>\n",
       "      <td>0</td>\n",
       "    </tr>\n",
       "    <tr>\n",
       "      <th>1149770</th>\n",
       "      <td>276704</td>\n",
       "      <td>0679752714</td>\n",
       "      <td>0</td>\n",
       "    </tr>\n",
       "    <tr>\n",
       "      <th>1149771</th>\n",
       "      <td>276704</td>\n",
       "      <td>0743211383</td>\n",
       "      <td>7</td>\n",
       "    </tr>\n",
       "    <tr>\n",
       "      <th>1149772</th>\n",
       "      <td>276704</td>\n",
       "      <td>080410526X</td>\n",
       "      <td>0</td>\n",
       "    </tr>\n",
       "    <tr>\n",
       "      <th>1149773</th>\n",
       "      <td>276704</td>\n",
       "      <td>0806917695</td>\n",
       "      <td>5</td>\n",
       "    </tr>\n",
       "    <tr>\n",
       "      <th>1149774</th>\n",
       "      <td>276704</td>\n",
       "      <td>0876044011</td>\n",
       "      <td>0</td>\n",
       "    </tr>\n",
       "    <tr>\n",
       "      <th>1149775</th>\n",
       "      <td>276704</td>\n",
       "      <td>1563526298</td>\n",
       "      <td>9</td>\n",
       "    </tr>\n",
       "    <tr>\n",
       "      <th>1149776</th>\n",
       "      <td>276706</td>\n",
       "      <td>0679447156</td>\n",
       "      <td>0</td>\n",
       "    </tr>\n",
       "    <tr>\n",
       "      <th>1149777</th>\n",
       "      <td>276709</td>\n",
       "      <td>0515107662</td>\n",
       "      <td>10</td>\n",
       "    </tr>\n",
       "    <tr>\n",
       "      <th>1149778</th>\n",
       "      <td>276721</td>\n",
       "      <td>0590442449</td>\n",
       "      <td>10</td>\n",
       "    </tr>\n",
       "    <tr>\n",
       "      <th>1149779</th>\n",
       "      <td>276723</td>\n",
       "      <td>05162443314</td>\n",
       "      <td>8</td>\n",
       "    </tr>\n",
       "  </tbody>\n",
       "</table>\n",
       "</div>"
      ],
      "text/plain": [
       "         User-ID         ISBN  Book-Rating\n",
       "1149755   276690   0590464116            0\n",
       "1149756   276690   0590581066            0\n",
       "1149757   276690   0590907301            0\n",
       "1149758   276697   8445072897            0\n",
       "1149759   276704   0152022597            0\n",
       "1149760   276704   0312873115            0\n",
       "1149761   276704   0345386108            6\n",
       "1149762   276704   0380796155            5\n",
       "1149763   276704   0395404258            0\n",
       "1149764   276704   0425060772            0\n",
       "1149765   276704   0440206529            0\n",
       "1149766   276704   0441007813            0\n",
       "1149767   276704   0446353957            0\n",
       "1149768   276704   0446605409            0\n",
       "1149769   276704   059032120X            0\n",
       "1149770   276704   0679752714            0\n",
       "1149771   276704   0743211383            7\n",
       "1149772   276704   080410526X            0\n",
       "1149773   276704   0806917695            5\n",
       "1149774   276704   0876044011            0\n",
       "1149775   276704   1563526298            9\n",
       "1149776   276706   0679447156            0\n",
       "1149777   276709   0515107662           10\n",
       "1149778   276721   0590442449           10\n",
       "1149779   276723  05162443314            8"
      ]
     },
     "execution_count": 6,
     "metadata": {},
     "output_type": "execute_result"
    }
   ],
   "source": [
    "# Check output - view current column headers and preview\n",
    "\n",
    "df_Ratings.tail(25)"
   ]
  },
  {
   "cell_type": "code",
   "execution_count": 7,
   "id": "430404bc",
   "metadata": {},
   "outputs": [
    {
     "name": "stdout",
     "output_type": "stream",
     "text": [
      "<class 'pandas.core.frame.DataFrame'>\n",
      "RangeIndex: 1149780 entries, 0 to 1149779\n",
      "Data columns (total 3 columns):\n",
      " #   Column       Non-Null Count    Dtype \n",
      "---  ------       --------------    ----- \n",
      " 0   User-ID      1149780 non-null  int64 \n",
      " 1   ISBN         1149780 non-null  object\n",
      " 2   Book-Rating  1149780 non-null  int64 \n",
      "dtypes: int64(2), object(1)\n",
      "memory usage: 26.3+ MB\n"
     ]
    }
   ],
   "source": [
    "# Check data types for each column and non-null values\n",
    "\n",
    "df_Ratings.info()"
   ]
  },
  {
   "cell_type": "code",
   "execution_count": 8,
   "id": "cf423912",
   "metadata": {},
   "outputs": [],
   "source": [
    "# Check for mixed data types\n",
    "\n",
    "for col in df_Ratings.columns.tolist():\n",
    "  weird = (df_Ratings[[col]].map(type) != df_Ratings[[col]].iloc[0].apply(type)).any(axis = 1)\n",
    "  if len (df_Ratings[weird]) > 0:\n",
    "    print (col)"
   ]
  },
  {
   "cell_type": "code",
   "execution_count": 9,
   "id": "96ed96c8",
   "metadata": {},
   "outputs": [
    {
     "data": {
      "text/plain": [
       "User-ID        0\n",
       "ISBN           0\n",
       "Book-Rating    0\n",
       "dtype: int64"
      ]
     },
     "execution_count": 9,
     "metadata": {},
     "output_type": "execute_result"
    }
   ],
   "source": [
    "# Find missing values by summing the number of null values in each column\n",
    "\n",
    "df_Ratings.isnull().sum()"
   ]
  },
  {
   "cell_type": "code",
   "execution_count": 10,
   "id": "030e8767",
   "metadata": {},
   "outputs": [
    {
     "data": {
      "text/html": [
       "<div>\n",
       "<style scoped>\n",
       "    .dataframe tbody tr th:only-of-type {\n",
       "        vertical-align: middle;\n",
       "    }\n",
       "\n",
       "    .dataframe tbody tr th {\n",
       "        vertical-align: top;\n",
       "    }\n",
       "\n",
       "    .dataframe thead th {\n",
       "        text-align: right;\n",
       "    }\n",
       "</style>\n",
       "<table border=\"1\" class=\"dataframe\">\n",
       "  <thead>\n",
       "    <tr style=\"text-align: right;\">\n",
       "      <th></th>\n",
       "      <th>User-ID</th>\n",
       "      <th>ISBN</th>\n",
       "      <th>Book-Rating</th>\n",
       "    </tr>\n",
       "  </thead>\n",
       "  <tbody>\n",
       "  </tbody>\n",
       "</table>\n",
       "</div>"
      ],
      "text/plain": [
       "Empty DataFrame\n",
       "Columns: [User-ID, ISBN, Book-Rating]\n",
       "Index: []"
      ]
     },
     "execution_count": 10,
     "metadata": {},
     "output_type": "execute_result"
    }
   ],
   "source": [
    "# Find any duplicate values in df through a subset\n",
    "\n",
    "df_dups = df_Ratings[df_Ratings.duplicated()]\n",
    "df_dups"
   ]
  },
  {
   "cell_type": "markdown",
   "id": "8af8e4b4",
   "metadata": {},
   "source": [
    "## Descriptive Analysis"
   ]
  },
  {
   "cell_type": "code",
   "execution_count": 11,
   "id": "c2ed50de",
   "metadata": {},
   "outputs": [
    {
     "data": {
      "text/html": [
       "<div>\n",
       "<style scoped>\n",
       "    .dataframe tbody tr th:only-of-type {\n",
       "        vertical-align: middle;\n",
       "    }\n",
       "\n",
       "    .dataframe tbody tr th {\n",
       "        vertical-align: top;\n",
       "    }\n",
       "\n",
       "    .dataframe thead th {\n",
       "        text-align: right;\n",
       "    }\n",
       "</style>\n",
       "<table border=\"1\" class=\"dataframe\">\n",
       "  <thead>\n",
       "    <tr style=\"text-align: right;\">\n",
       "      <th></th>\n",
       "      <th>User-ID</th>\n",
       "      <th>Book-Rating</th>\n",
       "    </tr>\n",
       "  </thead>\n",
       "  <tbody>\n",
       "    <tr>\n",
       "      <th>count</th>\n",
       "      <td>1.149780e+06</td>\n",
       "      <td>1.149780e+06</td>\n",
       "    </tr>\n",
       "    <tr>\n",
       "      <th>mean</th>\n",
       "      <td>1.403864e+05</td>\n",
       "      <td>2.866950e+00</td>\n",
       "    </tr>\n",
       "    <tr>\n",
       "      <th>std</th>\n",
       "      <td>8.056228e+04</td>\n",
       "      <td>3.854184e+00</td>\n",
       "    </tr>\n",
       "    <tr>\n",
       "      <th>min</th>\n",
       "      <td>2.000000e+00</td>\n",
       "      <td>0.000000e+00</td>\n",
       "    </tr>\n",
       "    <tr>\n",
       "      <th>25%</th>\n",
       "      <td>7.034500e+04</td>\n",
       "      <td>0.000000e+00</td>\n",
       "    </tr>\n",
       "    <tr>\n",
       "      <th>50%</th>\n",
       "      <td>1.410100e+05</td>\n",
       "      <td>0.000000e+00</td>\n",
       "    </tr>\n",
       "    <tr>\n",
       "      <th>75%</th>\n",
       "      <td>2.110280e+05</td>\n",
       "      <td>7.000000e+00</td>\n",
       "    </tr>\n",
       "    <tr>\n",
       "      <th>max</th>\n",
       "      <td>2.788540e+05</td>\n",
       "      <td>1.000000e+01</td>\n",
       "    </tr>\n",
       "  </tbody>\n",
       "</table>\n",
       "</div>"
      ],
      "text/plain": [
       "            User-ID   Book-Rating\n",
       "count  1.149780e+06  1.149780e+06\n",
       "mean   1.403864e+05  2.866950e+00\n",
       "std    8.056228e+04  3.854184e+00\n",
       "min    2.000000e+00  0.000000e+00\n",
       "25%    7.034500e+04  0.000000e+00\n",
       "50%    1.410100e+05  0.000000e+00\n",
       "75%    2.110280e+05  7.000000e+00\n",
       "max    2.788540e+05  1.000000e+01"
      ]
     },
     "execution_count": 11,
     "metadata": {},
     "output_type": "execute_result"
    }
   ],
   "source": [
    "# Check output stats\n",
    "\n",
    "df_Ratings.describe()"
   ]
  },
  {
   "cell_type": "markdown",
   "id": "182a39f2",
   "metadata": {},
   "source": [
    "## Observations from Exploration and Analysis"
   ]
  },
  {
   "cell_type": "markdown",
   "id": "23b65e37",
   "metadata": {},
   "source": [
    "These are my observations:\n",
    "\n",
    "- Unnecessary columns/variables - N/A\n",
    "- Missing data - many \"0\" ratings which represent no rating given - need to remove\n",
    "- Duplicates - N/A\n",
    "- Inaccurate/inconsistent data - the ISBN is not a complete ISBN but as long as they are in the same format as in the BOOKS table, this should be okay as it's only being used as an identifier.\n",
    "- Mixed-type columns - N/A\n",
    "- Outliers - N/A\n",
    "- Unclear column headers - N/A"
   ]
  },
  {
   "cell_type": "markdown",
   "id": "e85461b9",
   "metadata": {},
   "source": [
    "# 03. Data Cleaning"
   ]
  },
  {
   "cell_type": "code",
   "execution_count": 12,
   "id": "feee3a4a",
   "metadata": {},
   "outputs": [
    {
     "name": "stdout",
     "output_type": "stream",
     "text": [
      "716109\n"
     ]
    }
   ],
   "source": [
    "# Count the number of lines where \"Book-Rating\" is equal to 0\n",
    "\n",
    "count_zero_ratings = df_Ratings[df_Ratings[\"Book-Rating\"] == 0].shape[0]\n",
    "\n",
    "print(count_zero_ratings)"
   ]
  },
  {
   "cell_type": "markdown",
   "id": "68f05d5d",
   "metadata": {},
   "source": [
    "**Observation and Decision** \n",
    "\n",
    "While this is a large chunk of the data (62%) - the entire premise of this analysis is around ratings. So keeping the lines where there is no rating does not help the analysis at all or tell a story about ratings.\n",
    "\n",
    "Will proceed with removing these lines from the data."
   ]
  },
  {
   "cell_type": "code",
   "execution_count": 16,
   "id": "7e367411",
   "metadata": {},
   "outputs": [
    {
     "name": "stdout",
     "output_type": "stream",
     "text": [
      "0\n"
     ]
    }
   ],
   "source": [
    "# Remove all rows where \"Book-Rating\" is equal to 0\n",
    "df_Ratings = df_Ratings[df_Ratings[\"Book-Rating\"] != 0]\n",
    "\n",
    "# Recount the number of lines where \"Book-Rating\" is equal to 0\n",
    "count_zero_ratings = df_Ratings[df_Ratings[\"Book-Rating\"] == 0].shape[0]\n",
    "\n",
    "print(count_zero_ratings)"
   ]
  },
  {
   "cell_type": "markdown",
   "id": "35fec452",
   "metadata": {},
   "source": [
    "**Confirmed** All rows where the Book-Rating is 0 have been removed."
   ]
  },
  {
   "cell_type": "code",
   "execution_count": 15,
   "id": "0f8004b1",
   "metadata": {},
   "outputs": [
    {
     "data": {
      "text/plain": [
       "(433671, 3)"
      ]
     },
     "execution_count": 15,
     "metadata": {},
     "output_type": "execute_result"
    }
   ],
   "source": [
    "# Recheck dimensions of df\n",
    "\n",
    "df_Ratings.shape"
   ]
  },
  {
   "cell_type": "markdown",
   "id": "1ba26083",
   "metadata": {},
   "source": [
    "# 04. Data Transformation"
   ]
  },
  {
   "cell_type": "markdown",
   "id": "b48e5427",
   "metadata": {},
   "source": [
    "- New columns / calculations - none to be made at this point\n",
    "- Joining or merging tables - not at this point\n",
    "- Data Profiling Re-checks - N/A\n",
    "\n",
    "TL;DR: No action needed."
   ]
  },
  {
   "cell_type": "markdown",
   "id": "cbbc7b35",
   "metadata": {},
   "source": [
    "# 05. Export Dataframes"
   ]
  },
  {
   "cell_type": "code",
   "execution_count": 17,
   "id": "5a858c0b",
   "metadata": {},
   "outputs": [],
   "source": [
    "#Export df to Dataset folder - no changes, but this will symbolist that the original data has been prepared for analysis\n",
    "\n",
    "df_Ratings.to_csv(os.path.join(projpath, '02 Data','Dataset', 'Ratings-PREPPED.csv'))\n"
   ]
  }
 ],
 "metadata": {
  "kernelspec": {
   "display_name": "Python 3 (ipykernel)",
   "language": "python",
   "name": "python3"
  },
  "language_info": {
   "codemirror_mode": {
    "name": "ipython",
    "version": 3
   },
   "file_extension": ".py",
   "mimetype": "text/x-python",
   "name": "python",
   "nbconvert_exporter": "python",
   "pygments_lexer": "ipython3",
   "version": "3.11.5"
  }
 },
 "nbformat": 4,
 "nbformat_minor": 5
}
