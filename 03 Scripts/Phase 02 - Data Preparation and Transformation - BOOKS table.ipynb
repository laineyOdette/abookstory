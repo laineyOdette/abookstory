{
 "cells": [
  {
   "cell_type": "markdown",
   "id": "0433ea72",
   "metadata": {},
   "source": [
    "# 00. Table of Contents"
   ]
  },
  {
   "cell_type": "markdown",
   "id": "7dc2855b",
   "metadata": {},
   "source": [
    "01. Notebook Setup\n",
    "\n",
    "- Import library\n",
    "- Import dataset as dataframe\n",
    "\n",
    "02. Data Exploration and Profiling\n",
    "\n",
    "- Data Quality and Consistency Checks\n",
    "- Descriptive Analysis\n",
    "- Observations from Exploration\n",
    "\n",
    "03. Data Cleaning\n",
    "\n",
    "- Unnecessary columns/variables\n",
    "- Missing data\n",
    "- Duplicates\n",
    "- Inaccurate/inconsistent data\n",
    "- Mixed-type columns\n",
    "- Outliers\n",
    "- Unclear column headers\n",
    "- Data Profiling Re-checks\n",
    "\n",
    "04. Data Transformation\n",
    "\n",
    "- New columns / calculations\n",
    "- Joining or merging tables\n",
    "- Data Profiling Re-checks\n",
    "\n",
    "05. Export Dataframe"
   ]
  },
  {
   "cell_type": "markdown",
   "id": "8f10bcc2",
   "metadata": {},
   "source": [
    "# 01. Notebook Setup"
   ]
  },
  {
   "cell_type": "markdown",
   "id": "325ecd24",
   "metadata": {},
   "source": [
    "## 01.1 Import libraries"
   ]
  },
  {
   "cell_type": "code",
   "execution_count": 1,
   "id": "f29f33b8",
   "metadata": {},
   "outputs": [],
   "source": [
    "# Import libraries\n",
    "\n",
    "import pandas as pd\n",
    "import numpy as np\n",
    "import os\n",
    "import seaborn as sns"
   ]
  },
  {
   "cell_type": "markdown",
   "id": "077d6e9f",
   "metadata": {},
   "source": [
    "## 01.2 Import dataset as dataframe"
   ]
  },
  {
   "cell_type": "code",
   "execution_count": 2,
   "id": "1230931a",
   "metadata": {},
   "outputs": [],
   "source": [
    "# Create quick path to project folder\n",
    "\n",
    "projpath = r'/Users/laineyodette/Documents/_proDocs/professional development/Learning/Learning - Data Analytics/CareerFoundry - Become a Data Analyst/Data Immersion Course/A6 - Advanced Analytics and Dashboard Design/Book Project'\n"
   ]
  },
  {
   "cell_type": "code",
   "execution_count": 3,
   "id": "5362b9ce",
   "metadata": {},
   "outputs": [
    {
     "name": "stderr",
     "output_type": "stream",
     "text": [
      "/var/folders/yg/0kmnml152y57r36vt3dk72680000gn/T/ipykernel_4534/2132326533.py:3: DtypeWarning: Columns (3) have mixed types. Specify dtype option on import or set low_memory=False.\n",
      "  df_Books = pd.read_csv(os.path.join(projpath, '02 Data', 'Dataset ORIGINAL', 'Books.csv'), index_col = False)\n"
     ]
    }
   ],
   "source": [
    "# Import dataset as dataframe\n",
    "\n",
    "df_Books = pd.read_csv(os.path.join(projpath, '02 Data', 'Dataset ORIGINAL', 'Books.csv'), index_col = False)\n"
   ]
  },
  {
   "cell_type": "markdown",
   "id": "b12f24d1",
   "metadata": {},
   "source": [
    "# 02. Data Exploration and Profiling"
   ]
  },
  {
   "cell_type": "markdown",
   "id": "2f95c7ad",
   "metadata": {},
   "source": [
    "## Data Quality and Consistency Checks"
   ]
  },
  {
   "cell_type": "code",
   "execution_count": 4,
   "id": "9656cc0a",
   "metadata": {},
   "outputs": [
    {
     "data": {
      "text/plain": [
       "(271360, 8)"
      ]
     },
     "execution_count": 4,
     "metadata": {},
     "output_type": "execute_result"
    }
   ],
   "source": [
    "# Check dimensions of df\n",
    "\n",
    "df_Books.shape"
   ]
  },
  {
   "cell_type": "code",
   "execution_count": 5,
   "id": "ce91f691",
   "metadata": {},
   "outputs": [
    {
     "data": {
      "text/html": [
       "<div>\n",
       "<style scoped>\n",
       "    .dataframe tbody tr th:only-of-type {\n",
       "        vertical-align: middle;\n",
       "    }\n",
       "\n",
       "    .dataframe tbody tr th {\n",
       "        vertical-align: top;\n",
       "    }\n",
       "\n",
       "    .dataframe thead th {\n",
       "        text-align: right;\n",
       "    }\n",
       "</style>\n",
       "<table border=\"1\" class=\"dataframe\">\n",
       "  <thead>\n",
       "    <tr style=\"text-align: right;\">\n",
       "      <th></th>\n",
       "      <th>ISBN</th>\n",
       "      <th>Book-Title</th>\n",
       "      <th>Book-Author</th>\n",
       "      <th>Year-Of-Publication</th>\n",
       "      <th>Publisher</th>\n",
       "      <th>Image-URL-S</th>\n",
       "      <th>Image-URL-M</th>\n",
       "      <th>Image-URL-L</th>\n",
       "    </tr>\n",
       "  </thead>\n",
       "  <tbody>\n",
       "    <tr>\n",
       "      <th>0</th>\n",
       "      <td>0195153448</td>\n",
       "      <td>Classical Mythology</td>\n",
       "      <td>Mark P. O. Morford</td>\n",
       "      <td>2002</td>\n",
       "      <td>Oxford University Press</td>\n",
       "      <td>http://images.amazon.com/images/P/0195153448.0...</td>\n",
       "      <td>http://images.amazon.com/images/P/0195153448.0...</td>\n",
       "      <td>http://images.amazon.com/images/P/0195153448.0...</td>\n",
       "    </tr>\n",
       "    <tr>\n",
       "      <th>1</th>\n",
       "      <td>0002005018</td>\n",
       "      <td>Clara Callan</td>\n",
       "      <td>Richard Bruce Wright</td>\n",
       "      <td>2001</td>\n",
       "      <td>HarperFlamingo Canada</td>\n",
       "      <td>http://images.amazon.com/images/P/0002005018.0...</td>\n",
       "      <td>http://images.amazon.com/images/P/0002005018.0...</td>\n",
       "      <td>http://images.amazon.com/images/P/0002005018.0...</td>\n",
       "    </tr>\n",
       "    <tr>\n",
       "      <th>2</th>\n",
       "      <td>0060973129</td>\n",
       "      <td>Decision in Normandy</td>\n",
       "      <td>Carlo D'Este</td>\n",
       "      <td>1991</td>\n",
       "      <td>HarperPerennial</td>\n",
       "      <td>http://images.amazon.com/images/P/0060973129.0...</td>\n",
       "      <td>http://images.amazon.com/images/P/0060973129.0...</td>\n",
       "      <td>http://images.amazon.com/images/P/0060973129.0...</td>\n",
       "    </tr>\n",
       "    <tr>\n",
       "      <th>3</th>\n",
       "      <td>0374157065</td>\n",
       "      <td>Flu: The Story of the Great Influenza Pandemic...</td>\n",
       "      <td>Gina Bari Kolata</td>\n",
       "      <td>1999</td>\n",
       "      <td>Farrar Straus Giroux</td>\n",
       "      <td>http://images.amazon.com/images/P/0374157065.0...</td>\n",
       "      <td>http://images.amazon.com/images/P/0374157065.0...</td>\n",
       "      <td>http://images.amazon.com/images/P/0374157065.0...</td>\n",
       "    </tr>\n",
       "    <tr>\n",
       "      <th>4</th>\n",
       "      <td>0393045218</td>\n",
       "      <td>The Mummies of Urumchi</td>\n",
       "      <td>E. J. W. Barber</td>\n",
       "      <td>1999</td>\n",
       "      <td>W. W. Norton &amp;amp; Company</td>\n",
       "      <td>http://images.amazon.com/images/P/0393045218.0...</td>\n",
       "      <td>http://images.amazon.com/images/P/0393045218.0...</td>\n",
       "      <td>http://images.amazon.com/images/P/0393045218.0...</td>\n",
       "    </tr>\n",
       "    <tr>\n",
       "      <th>5</th>\n",
       "      <td>0399135782</td>\n",
       "      <td>The Kitchen God's Wife</td>\n",
       "      <td>Amy Tan</td>\n",
       "      <td>1991</td>\n",
       "      <td>Putnam Pub Group</td>\n",
       "      <td>http://images.amazon.com/images/P/0399135782.0...</td>\n",
       "      <td>http://images.amazon.com/images/P/0399135782.0...</td>\n",
       "      <td>http://images.amazon.com/images/P/0399135782.0...</td>\n",
       "    </tr>\n",
       "    <tr>\n",
       "      <th>6</th>\n",
       "      <td>0425176428</td>\n",
       "      <td>What If?: The World's Foremost Military Histor...</td>\n",
       "      <td>Robert Cowley</td>\n",
       "      <td>2000</td>\n",
       "      <td>Berkley Publishing Group</td>\n",
       "      <td>http://images.amazon.com/images/P/0425176428.0...</td>\n",
       "      <td>http://images.amazon.com/images/P/0425176428.0...</td>\n",
       "      <td>http://images.amazon.com/images/P/0425176428.0...</td>\n",
       "    </tr>\n",
       "    <tr>\n",
       "      <th>7</th>\n",
       "      <td>0671870432</td>\n",
       "      <td>PLEADING GUILTY</td>\n",
       "      <td>Scott Turow</td>\n",
       "      <td>1993</td>\n",
       "      <td>Audioworks</td>\n",
       "      <td>http://images.amazon.com/images/P/0671870432.0...</td>\n",
       "      <td>http://images.amazon.com/images/P/0671870432.0...</td>\n",
       "      <td>http://images.amazon.com/images/P/0671870432.0...</td>\n",
       "    </tr>\n",
       "    <tr>\n",
       "      <th>8</th>\n",
       "      <td>0679425608</td>\n",
       "      <td>Under the Black Flag: The Romance and the Real...</td>\n",
       "      <td>David Cordingly</td>\n",
       "      <td>1996</td>\n",
       "      <td>Random House</td>\n",
       "      <td>http://images.amazon.com/images/P/0679425608.0...</td>\n",
       "      <td>http://images.amazon.com/images/P/0679425608.0...</td>\n",
       "      <td>http://images.amazon.com/images/P/0679425608.0...</td>\n",
       "    </tr>\n",
       "    <tr>\n",
       "      <th>9</th>\n",
       "      <td>074322678X</td>\n",
       "      <td>Where You'll Find Me: And Other Stories</td>\n",
       "      <td>Ann Beattie</td>\n",
       "      <td>2002</td>\n",
       "      <td>Scribner</td>\n",
       "      <td>http://images.amazon.com/images/P/074322678X.0...</td>\n",
       "      <td>http://images.amazon.com/images/P/074322678X.0...</td>\n",
       "      <td>http://images.amazon.com/images/P/074322678X.0...</td>\n",
       "    </tr>\n",
       "    <tr>\n",
       "      <th>10</th>\n",
       "      <td>0771074670</td>\n",
       "      <td>Nights Below Station Street</td>\n",
       "      <td>David Adams Richards</td>\n",
       "      <td>1988</td>\n",
       "      <td>Emblem Editions</td>\n",
       "      <td>http://images.amazon.com/images/P/0771074670.0...</td>\n",
       "      <td>http://images.amazon.com/images/P/0771074670.0...</td>\n",
       "      <td>http://images.amazon.com/images/P/0771074670.0...</td>\n",
       "    </tr>\n",
       "    <tr>\n",
       "      <th>11</th>\n",
       "      <td>080652121X</td>\n",
       "      <td>Hitler's Secret Bankers: The Myth of Swiss Neu...</td>\n",
       "      <td>Adam Lebor</td>\n",
       "      <td>2000</td>\n",
       "      <td>Citadel Press</td>\n",
       "      <td>http://images.amazon.com/images/P/080652121X.0...</td>\n",
       "      <td>http://images.amazon.com/images/P/080652121X.0...</td>\n",
       "      <td>http://images.amazon.com/images/P/080652121X.0...</td>\n",
       "    </tr>\n",
       "    <tr>\n",
       "      <th>12</th>\n",
       "      <td>0887841740</td>\n",
       "      <td>The Middle Stories</td>\n",
       "      <td>Sheila Heti</td>\n",
       "      <td>2004</td>\n",
       "      <td>House of Anansi Press</td>\n",
       "      <td>http://images.amazon.com/images/P/0887841740.0...</td>\n",
       "      <td>http://images.amazon.com/images/P/0887841740.0...</td>\n",
       "      <td>http://images.amazon.com/images/P/0887841740.0...</td>\n",
       "    </tr>\n",
       "    <tr>\n",
       "      <th>13</th>\n",
       "      <td>1552041778</td>\n",
       "      <td>Jane Doe</td>\n",
       "      <td>R. J. Kaiser</td>\n",
       "      <td>1999</td>\n",
       "      <td>Mira Books</td>\n",
       "      <td>http://images.amazon.com/images/P/1552041778.0...</td>\n",
       "      <td>http://images.amazon.com/images/P/1552041778.0...</td>\n",
       "      <td>http://images.amazon.com/images/P/1552041778.0...</td>\n",
       "    </tr>\n",
       "    <tr>\n",
       "      <th>14</th>\n",
       "      <td>1558746218</td>\n",
       "      <td>A Second Chicken Soup for the Woman's Soul (Ch...</td>\n",
       "      <td>Jack Canfield</td>\n",
       "      <td>1998</td>\n",
       "      <td>Health Communications</td>\n",
       "      <td>http://images.amazon.com/images/P/1558746218.0...</td>\n",
       "      <td>http://images.amazon.com/images/P/1558746218.0...</td>\n",
       "      <td>http://images.amazon.com/images/P/1558746218.0...</td>\n",
       "    </tr>\n",
       "    <tr>\n",
       "      <th>15</th>\n",
       "      <td>1567407781</td>\n",
       "      <td>The Witchfinder (Amos Walker Mystery Series)</td>\n",
       "      <td>Loren D. Estleman</td>\n",
       "      <td>1998</td>\n",
       "      <td>Brilliance Audio - Trade</td>\n",
       "      <td>http://images.amazon.com/images/P/1567407781.0...</td>\n",
       "      <td>http://images.amazon.com/images/P/1567407781.0...</td>\n",
       "      <td>http://images.amazon.com/images/P/1567407781.0...</td>\n",
       "    </tr>\n",
       "    <tr>\n",
       "      <th>16</th>\n",
       "      <td>1575663937</td>\n",
       "      <td>More Cunning Than Man: A Social History of Rat...</td>\n",
       "      <td>Robert Hendrickson</td>\n",
       "      <td>1999</td>\n",
       "      <td>Kensington Publishing Corp.</td>\n",
       "      <td>http://images.amazon.com/images/P/1575663937.0...</td>\n",
       "      <td>http://images.amazon.com/images/P/1575663937.0...</td>\n",
       "      <td>http://images.amazon.com/images/P/1575663937.0...</td>\n",
       "    </tr>\n",
       "    <tr>\n",
       "      <th>17</th>\n",
       "      <td>1881320189</td>\n",
       "      <td>Goodbye to the Buttermilk Sky</td>\n",
       "      <td>Julia Oliver</td>\n",
       "      <td>1994</td>\n",
       "      <td>River City Pub</td>\n",
       "      <td>http://images.amazon.com/images/P/1881320189.0...</td>\n",
       "      <td>http://images.amazon.com/images/P/1881320189.0...</td>\n",
       "      <td>http://images.amazon.com/images/P/1881320189.0...</td>\n",
       "    </tr>\n",
       "    <tr>\n",
       "      <th>18</th>\n",
       "      <td>0440234743</td>\n",
       "      <td>The Testament</td>\n",
       "      <td>John Grisham</td>\n",
       "      <td>1999</td>\n",
       "      <td>Dell</td>\n",
       "      <td>http://images.amazon.com/images/P/0440234743.0...</td>\n",
       "      <td>http://images.amazon.com/images/P/0440234743.0...</td>\n",
       "      <td>http://images.amazon.com/images/P/0440234743.0...</td>\n",
       "    </tr>\n",
       "    <tr>\n",
       "      <th>19</th>\n",
       "      <td>0452264464</td>\n",
       "      <td>Beloved (Plume Contemporary Fiction)</td>\n",
       "      <td>Toni Morrison</td>\n",
       "      <td>1994</td>\n",
       "      <td>Plume</td>\n",
       "      <td>http://images.amazon.com/images/P/0452264464.0...</td>\n",
       "      <td>http://images.amazon.com/images/P/0452264464.0...</td>\n",
       "      <td>http://images.amazon.com/images/P/0452264464.0...</td>\n",
       "    </tr>\n",
       "    <tr>\n",
       "      <th>20</th>\n",
       "      <td>0609804618</td>\n",
       "      <td>Our Dumb Century: The Onion Presents 100 Years...</td>\n",
       "      <td>The Onion</td>\n",
       "      <td>1999</td>\n",
       "      <td>Three Rivers Press</td>\n",
       "      <td>http://images.amazon.com/images/P/0609804618.0...</td>\n",
       "      <td>http://images.amazon.com/images/P/0609804618.0...</td>\n",
       "      <td>http://images.amazon.com/images/P/0609804618.0...</td>\n",
       "    </tr>\n",
       "    <tr>\n",
       "      <th>21</th>\n",
       "      <td>1841721522</td>\n",
       "      <td>New Vegetarian: Bold and Beautiful Recipes for...</td>\n",
       "      <td>Celia Brooks Brown</td>\n",
       "      <td>2001</td>\n",
       "      <td>Ryland Peters &amp;amp; Small Ltd</td>\n",
       "      <td>http://images.amazon.com/images/P/1841721522.0...</td>\n",
       "      <td>http://images.amazon.com/images/P/1841721522.0...</td>\n",
       "      <td>http://images.amazon.com/images/P/1841721522.0...</td>\n",
       "    </tr>\n",
       "    <tr>\n",
       "      <th>22</th>\n",
       "      <td>1879384493</td>\n",
       "      <td>If I'd Known Then What I Know Now: Why Not Lea...</td>\n",
       "      <td>J. R. Parrish</td>\n",
       "      <td>2003</td>\n",
       "      <td>Cypress House</td>\n",
       "      <td>http://images.amazon.com/images/P/1879384493.0...</td>\n",
       "      <td>http://images.amazon.com/images/P/1879384493.0...</td>\n",
       "      <td>http://images.amazon.com/images/P/1879384493.0...</td>\n",
       "    </tr>\n",
       "    <tr>\n",
       "      <th>23</th>\n",
       "      <td>0061076031</td>\n",
       "      <td>Mary-Kate &amp;amp; Ashley Switching Goals (Mary-K...</td>\n",
       "      <td>Mary-Kate &amp;amp; Ashley Olsen</td>\n",
       "      <td>2000</td>\n",
       "      <td>HarperEntertainment</td>\n",
       "      <td>http://images.amazon.com/images/P/0061076031.0...</td>\n",
       "      <td>http://images.amazon.com/images/P/0061076031.0...</td>\n",
       "      <td>http://images.amazon.com/images/P/0061076031.0...</td>\n",
       "    </tr>\n",
       "    <tr>\n",
       "      <th>24</th>\n",
       "      <td>0439095026</td>\n",
       "      <td>Tell Me This Isn't Happening</td>\n",
       "      <td>Robynn Clairday</td>\n",
       "      <td>1999</td>\n",
       "      <td>Scholastic</td>\n",
       "      <td>http://images.amazon.com/images/P/0439095026.0...</td>\n",
       "      <td>http://images.amazon.com/images/P/0439095026.0...</td>\n",
       "      <td>http://images.amazon.com/images/P/0439095026.0...</td>\n",
       "    </tr>\n",
       "  </tbody>\n",
       "</table>\n",
       "</div>"
      ],
      "text/plain": [
       "          ISBN                                         Book-Title  \\\n",
       "0   0195153448                                Classical Mythology   \n",
       "1   0002005018                                       Clara Callan   \n",
       "2   0060973129                               Decision in Normandy   \n",
       "3   0374157065  Flu: The Story of the Great Influenza Pandemic...   \n",
       "4   0393045218                             The Mummies of Urumchi   \n",
       "5   0399135782                             The Kitchen God's Wife   \n",
       "6   0425176428  What If?: The World's Foremost Military Histor...   \n",
       "7   0671870432                                    PLEADING GUILTY   \n",
       "8   0679425608  Under the Black Flag: The Romance and the Real...   \n",
       "9   074322678X            Where You'll Find Me: And Other Stories   \n",
       "10  0771074670                        Nights Below Station Street   \n",
       "11  080652121X  Hitler's Secret Bankers: The Myth of Swiss Neu...   \n",
       "12  0887841740                                 The Middle Stories   \n",
       "13  1552041778                                           Jane Doe   \n",
       "14  1558746218  A Second Chicken Soup for the Woman's Soul (Ch...   \n",
       "15  1567407781       The Witchfinder (Amos Walker Mystery Series)   \n",
       "16  1575663937  More Cunning Than Man: A Social History of Rat...   \n",
       "17  1881320189                      Goodbye to the Buttermilk Sky   \n",
       "18  0440234743                                      The Testament   \n",
       "19  0452264464               Beloved (Plume Contemporary Fiction)   \n",
       "20  0609804618  Our Dumb Century: The Onion Presents 100 Years...   \n",
       "21  1841721522  New Vegetarian: Bold and Beautiful Recipes for...   \n",
       "22  1879384493  If I'd Known Then What I Know Now: Why Not Lea...   \n",
       "23  0061076031  Mary-Kate &amp; Ashley Switching Goals (Mary-K...   \n",
       "24  0439095026                       Tell Me This Isn't Happening   \n",
       "\n",
       "                     Book-Author Year-Of-Publication  \\\n",
       "0             Mark P. O. Morford                2002   \n",
       "1           Richard Bruce Wright                2001   \n",
       "2                   Carlo D'Este                1991   \n",
       "3               Gina Bari Kolata                1999   \n",
       "4                E. J. W. Barber                1999   \n",
       "5                        Amy Tan                1991   \n",
       "6                  Robert Cowley                2000   \n",
       "7                    Scott Turow                1993   \n",
       "8                David Cordingly                1996   \n",
       "9                    Ann Beattie                2002   \n",
       "10          David Adams Richards                1988   \n",
       "11                    Adam Lebor                2000   \n",
       "12                   Sheila Heti                2004   \n",
       "13                  R. J. Kaiser                1999   \n",
       "14                 Jack Canfield                1998   \n",
       "15             Loren D. Estleman                1998   \n",
       "16            Robert Hendrickson                1999   \n",
       "17                  Julia Oliver                1994   \n",
       "18                  John Grisham                1999   \n",
       "19                 Toni Morrison                1994   \n",
       "20                     The Onion                1999   \n",
       "21            Celia Brooks Brown                2001   \n",
       "22                 J. R. Parrish                2003   \n",
       "23  Mary-Kate &amp; Ashley Olsen                2000   \n",
       "24               Robynn Clairday                1999   \n",
       "\n",
       "                        Publisher  \\\n",
       "0         Oxford University Press   \n",
       "1           HarperFlamingo Canada   \n",
       "2                 HarperPerennial   \n",
       "3            Farrar Straus Giroux   \n",
       "4      W. W. Norton &amp; Company   \n",
       "5                Putnam Pub Group   \n",
       "6        Berkley Publishing Group   \n",
       "7                      Audioworks   \n",
       "8                    Random House   \n",
       "9                        Scribner   \n",
       "10                Emblem Editions   \n",
       "11                  Citadel Press   \n",
       "12          House of Anansi Press   \n",
       "13                     Mira Books   \n",
       "14          Health Communications   \n",
       "15       Brilliance Audio - Trade   \n",
       "16    Kensington Publishing Corp.   \n",
       "17                 River City Pub   \n",
       "18                           Dell   \n",
       "19                          Plume   \n",
       "20             Three Rivers Press   \n",
       "21  Ryland Peters &amp; Small Ltd   \n",
       "22                  Cypress House   \n",
       "23            HarperEntertainment   \n",
       "24                     Scholastic   \n",
       "\n",
       "                                          Image-URL-S  \\\n",
       "0   http://images.amazon.com/images/P/0195153448.0...   \n",
       "1   http://images.amazon.com/images/P/0002005018.0...   \n",
       "2   http://images.amazon.com/images/P/0060973129.0...   \n",
       "3   http://images.amazon.com/images/P/0374157065.0...   \n",
       "4   http://images.amazon.com/images/P/0393045218.0...   \n",
       "5   http://images.amazon.com/images/P/0399135782.0...   \n",
       "6   http://images.amazon.com/images/P/0425176428.0...   \n",
       "7   http://images.amazon.com/images/P/0671870432.0...   \n",
       "8   http://images.amazon.com/images/P/0679425608.0...   \n",
       "9   http://images.amazon.com/images/P/074322678X.0...   \n",
       "10  http://images.amazon.com/images/P/0771074670.0...   \n",
       "11  http://images.amazon.com/images/P/080652121X.0...   \n",
       "12  http://images.amazon.com/images/P/0887841740.0...   \n",
       "13  http://images.amazon.com/images/P/1552041778.0...   \n",
       "14  http://images.amazon.com/images/P/1558746218.0...   \n",
       "15  http://images.amazon.com/images/P/1567407781.0...   \n",
       "16  http://images.amazon.com/images/P/1575663937.0...   \n",
       "17  http://images.amazon.com/images/P/1881320189.0...   \n",
       "18  http://images.amazon.com/images/P/0440234743.0...   \n",
       "19  http://images.amazon.com/images/P/0452264464.0...   \n",
       "20  http://images.amazon.com/images/P/0609804618.0...   \n",
       "21  http://images.amazon.com/images/P/1841721522.0...   \n",
       "22  http://images.amazon.com/images/P/1879384493.0...   \n",
       "23  http://images.amazon.com/images/P/0061076031.0...   \n",
       "24  http://images.amazon.com/images/P/0439095026.0...   \n",
       "\n",
       "                                          Image-URL-M  \\\n",
       "0   http://images.amazon.com/images/P/0195153448.0...   \n",
       "1   http://images.amazon.com/images/P/0002005018.0...   \n",
       "2   http://images.amazon.com/images/P/0060973129.0...   \n",
       "3   http://images.amazon.com/images/P/0374157065.0...   \n",
       "4   http://images.amazon.com/images/P/0393045218.0...   \n",
       "5   http://images.amazon.com/images/P/0399135782.0...   \n",
       "6   http://images.amazon.com/images/P/0425176428.0...   \n",
       "7   http://images.amazon.com/images/P/0671870432.0...   \n",
       "8   http://images.amazon.com/images/P/0679425608.0...   \n",
       "9   http://images.amazon.com/images/P/074322678X.0...   \n",
       "10  http://images.amazon.com/images/P/0771074670.0...   \n",
       "11  http://images.amazon.com/images/P/080652121X.0...   \n",
       "12  http://images.amazon.com/images/P/0887841740.0...   \n",
       "13  http://images.amazon.com/images/P/1552041778.0...   \n",
       "14  http://images.amazon.com/images/P/1558746218.0...   \n",
       "15  http://images.amazon.com/images/P/1567407781.0...   \n",
       "16  http://images.amazon.com/images/P/1575663937.0...   \n",
       "17  http://images.amazon.com/images/P/1881320189.0...   \n",
       "18  http://images.amazon.com/images/P/0440234743.0...   \n",
       "19  http://images.amazon.com/images/P/0452264464.0...   \n",
       "20  http://images.amazon.com/images/P/0609804618.0...   \n",
       "21  http://images.amazon.com/images/P/1841721522.0...   \n",
       "22  http://images.amazon.com/images/P/1879384493.0...   \n",
       "23  http://images.amazon.com/images/P/0061076031.0...   \n",
       "24  http://images.amazon.com/images/P/0439095026.0...   \n",
       "\n",
       "                                          Image-URL-L  \n",
       "0   http://images.amazon.com/images/P/0195153448.0...  \n",
       "1   http://images.amazon.com/images/P/0002005018.0...  \n",
       "2   http://images.amazon.com/images/P/0060973129.0...  \n",
       "3   http://images.amazon.com/images/P/0374157065.0...  \n",
       "4   http://images.amazon.com/images/P/0393045218.0...  \n",
       "5   http://images.amazon.com/images/P/0399135782.0...  \n",
       "6   http://images.amazon.com/images/P/0425176428.0...  \n",
       "7   http://images.amazon.com/images/P/0671870432.0...  \n",
       "8   http://images.amazon.com/images/P/0679425608.0...  \n",
       "9   http://images.amazon.com/images/P/074322678X.0...  \n",
       "10  http://images.amazon.com/images/P/0771074670.0...  \n",
       "11  http://images.amazon.com/images/P/080652121X.0...  \n",
       "12  http://images.amazon.com/images/P/0887841740.0...  \n",
       "13  http://images.amazon.com/images/P/1552041778.0...  \n",
       "14  http://images.amazon.com/images/P/1558746218.0...  \n",
       "15  http://images.amazon.com/images/P/1567407781.0...  \n",
       "16  http://images.amazon.com/images/P/1575663937.0...  \n",
       "17  http://images.amazon.com/images/P/1881320189.0...  \n",
       "18  http://images.amazon.com/images/P/0440234743.0...  \n",
       "19  http://images.amazon.com/images/P/0452264464.0...  \n",
       "20  http://images.amazon.com/images/P/0609804618.0...  \n",
       "21  http://images.amazon.com/images/P/1841721522.0...  \n",
       "22  http://images.amazon.com/images/P/1879384493.0...  \n",
       "23  http://images.amazon.com/images/P/0061076031.0...  \n",
       "24  http://images.amazon.com/images/P/0439095026.0...  "
      ]
     },
     "execution_count": 5,
     "metadata": {},
     "output_type": "execute_result"
    }
   ],
   "source": [
    "# Check output - view current column headers and preview\n",
    "\n",
    "df_Books.head(25)"
   ]
  },
  {
   "cell_type": "code",
   "execution_count": 6,
   "id": "56ac98ba",
   "metadata": {},
   "outputs": [
    {
     "data": {
      "text/html": [
       "<div>\n",
       "<style scoped>\n",
       "    .dataframe tbody tr th:only-of-type {\n",
       "        vertical-align: middle;\n",
       "    }\n",
       "\n",
       "    .dataframe tbody tr th {\n",
       "        vertical-align: top;\n",
       "    }\n",
       "\n",
       "    .dataframe thead th {\n",
       "        text-align: right;\n",
       "    }\n",
       "</style>\n",
       "<table border=\"1\" class=\"dataframe\">\n",
       "  <thead>\n",
       "    <tr style=\"text-align: right;\">\n",
       "      <th></th>\n",
       "      <th>ISBN</th>\n",
       "      <th>Book-Title</th>\n",
       "      <th>Book-Author</th>\n",
       "      <th>Year-Of-Publication</th>\n",
       "      <th>Publisher</th>\n",
       "      <th>Image-URL-S</th>\n",
       "      <th>Image-URL-M</th>\n",
       "      <th>Image-URL-L</th>\n",
       "    </tr>\n",
       "  </thead>\n",
       "  <tbody>\n",
       "    <tr>\n",
       "      <th>271335</th>\n",
       "      <td>381440176X</td>\n",
       "      <td>Ein Fall fÃ?Â¼r TKKG, Bd.50, Sklaven fÃ?Â¼r Wu...</td>\n",
       "      <td>Stefan Wolf</td>\n",
       "      <td>1989</td>\n",
       "      <td>Pelikan</td>\n",
       "      <td>http://images.amazon.com/images/P/381440176X.0...</td>\n",
       "      <td>http://images.amazon.com/images/P/381440176X.0...</td>\n",
       "      <td>http://images.amazon.com/images/P/381440176X.0...</td>\n",
       "    </tr>\n",
       "    <tr>\n",
       "      <th>271336</th>\n",
       "      <td>3893312307</td>\n",
       "      <td>Die Vereinten Nationen: Zwischen Anspruch und ...</td>\n",
       "      <td>GÃ¼nther Unser</td>\n",
       "      <td>1995</td>\n",
       "      <td>Bundeszentrale fÃ¼r Politische Bildung</td>\n",
       "      <td>http://images.amazon.com/images/P/3893312307.0...</td>\n",
       "      <td>http://images.amazon.com/images/P/3893312307.0...</td>\n",
       "      <td>http://images.amazon.com/images/P/3893312307.0...</td>\n",
       "    </tr>\n",
       "    <tr>\n",
       "      <th>271337</th>\n",
       "      <td>0971854823</td>\n",
       "      <td>The Female Power Within: A Guide to Living a G...</td>\n",
       "      <td>Marilyn Graman</td>\n",
       "      <td>2002</td>\n",
       "      <td>Life Works Books</td>\n",
       "      <td>http://images.amazon.com/images/P/0971854823.0...</td>\n",
       "      <td>http://images.amazon.com/images/P/0971854823.0...</td>\n",
       "      <td>http://images.amazon.com/images/P/0971854823.0...</td>\n",
       "    </tr>\n",
       "    <tr>\n",
       "      <th>271338</th>\n",
       "      <td>0316640786</td>\n",
       "      <td>Christie's Collectables: Blue and White China ...</td>\n",
       "      <td>Paul Tippett</td>\n",
       "      <td>1997</td>\n",
       "      <td>Time Warner Books UK</td>\n",
       "      <td>http://images.amazon.com/images/P/0316640786.0...</td>\n",
       "      <td>http://images.amazon.com/images/P/0316640786.0...</td>\n",
       "      <td>http://images.amazon.com/images/P/0316640786.0...</td>\n",
       "    </tr>\n",
       "    <tr>\n",
       "      <th>271339</th>\n",
       "      <td>3257217323</td>\n",
       "      <td>Schmatz. Oder Die Sackgasse.</td>\n",
       "      <td>Hans Werner Kettenbach</td>\n",
       "      <td>2003</td>\n",
       "      <td>Diogenes Verlag</td>\n",
       "      <td>http://images.amazon.com/images/P/3257217323.0...</td>\n",
       "      <td>http://images.amazon.com/images/P/3257217323.0...</td>\n",
       "      <td>http://images.amazon.com/images/P/3257217323.0...</td>\n",
       "    </tr>\n",
       "    <tr>\n",
       "      <th>271340</th>\n",
       "      <td>3596156904</td>\n",
       "      <td>Amok.</td>\n",
       "      <td>Emmanuel Carrere</td>\n",
       "      <td>2003</td>\n",
       "      <td>Fischer (Tb.), Frankfurt</td>\n",
       "      <td>http://images.amazon.com/images/P/3596156904.0...</td>\n",
       "      <td>http://images.amazon.com/images/P/3596156904.0...</td>\n",
       "      <td>http://images.amazon.com/images/P/3596156904.0...</td>\n",
       "    </tr>\n",
       "    <tr>\n",
       "      <th>271341</th>\n",
       "      <td>1874166633</td>\n",
       "      <td>Introducing Nietzsche (Foundations in Children...</td>\n",
       "      <td>Laurence Gane</td>\n",
       "      <td>1998</td>\n",
       "      <td>Natl Book Network</td>\n",
       "      <td>http://images.amazon.com/images/P/1874166633.0...</td>\n",
       "      <td>http://images.amazon.com/images/P/1874166633.0...</td>\n",
       "      <td>http://images.amazon.com/images/P/1874166633.0...</td>\n",
       "    </tr>\n",
       "    <tr>\n",
       "      <th>271342</th>\n",
       "      <td>0130897930</td>\n",
       "      <td>Core Web Programming (2nd Edition)</td>\n",
       "      <td>Marty Hall</td>\n",
       "      <td>2001</td>\n",
       "      <td>Prentice Hall PTR</td>\n",
       "      <td>http://images.amazon.com/images/P/0130897930.0...</td>\n",
       "      <td>http://images.amazon.com/images/P/0130897930.0...</td>\n",
       "      <td>http://images.amazon.com/images/P/0130897930.0...</td>\n",
       "    </tr>\n",
       "    <tr>\n",
       "      <th>271343</th>\n",
       "      <td>020130998X</td>\n",
       "      <td>The Unified Modeling Language Reference Manual...</td>\n",
       "      <td>James Rumbaugh</td>\n",
       "      <td>1998</td>\n",
       "      <td>Addison-Wesley Professional</td>\n",
       "      <td>http://images.amazon.com/images/P/020130998X.0...</td>\n",
       "      <td>http://images.amazon.com/images/P/020130998X.0...</td>\n",
       "      <td>http://images.amazon.com/images/P/020130998X.0...</td>\n",
       "    </tr>\n",
       "    <tr>\n",
       "      <th>271344</th>\n",
       "      <td>2268032019</td>\n",
       "      <td>Petite histoire de la dÃ?Â©sinformation</td>\n",
       "      <td>Vladimir Volkoff</td>\n",
       "      <td>1999</td>\n",
       "      <td>Editions du Rocher</td>\n",
       "      <td>http://images.amazon.com/images/P/2268032019.0...</td>\n",
       "      <td>http://images.amazon.com/images/P/2268032019.0...</td>\n",
       "      <td>http://images.amazon.com/images/P/2268032019.0...</td>\n",
       "    </tr>\n",
       "    <tr>\n",
       "      <th>271345</th>\n",
       "      <td>0684860112</td>\n",
       "      <td>Driving to Detroit: Memoirs of a Fast Woman</td>\n",
       "      <td>Lesley Hazleton</td>\n",
       "      <td>1999</td>\n",
       "      <td>Simon &amp;amp; Schuster (Trade Division)</td>\n",
       "      <td>http://images.amazon.com/images/P/0684860112.0...</td>\n",
       "      <td>http://images.amazon.com/images/P/0684860112.0...</td>\n",
       "      <td>http://images.amazon.com/images/P/0684860112.0...</td>\n",
       "    </tr>\n",
       "    <tr>\n",
       "      <th>271346</th>\n",
       "      <td>0395264707</td>\n",
       "      <td>Dreamsnake</td>\n",
       "      <td>Vonda N. McIntyre</td>\n",
       "      <td>1978</td>\n",
       "      <td>Houghton Mifflin</td>\n",
       "      <td>http://images.amazon.com/images/P/0395264707.0...</td>\n",
       "      <td>http://images.amazon.com/images/P/0395264707.0...</td>\n",
       "      <td>http://images.amazon.com/images/P/0395264707.0...</td>\n",
       "    </tr>\n",
       "    <tr>\n",
       "      <th>271347</th>\n",
       "      <td>3442150663</td>\n",
       "      <td>Der Mossad.</td>\n",
       "      <td>Victor Ostrovsky</td>\n",
       "      <td>2000</td>\n",
       "      <td>Goldmann</td>\n",
       "      <td>http://images.amazon.com/images/P/3442150663.0...</td>\n",
       "      <td>http://images.amazon.com/images/P/3442150663.0...</td>\n",
       "      <td>http://images.amazon.com/images/P/3442150663.0...</td>\n",
       "    </tr>\n",
       "    <tr>\n",
       "      <th>271348</th>\n",
       "      <td>0231128444</td>\n",
       "      <td>Slow Food(The Case For Taste)</td>\n",
       "      <td>Carlo Petrini</td>\n",
       "      <td>2003</td>\n",
       "      <td>Columbia University Press</td>\n",
       "      <td>http://images.amazon.com/images/P/0231128444.0...</td>\n",
       "      <td>http://images.amazon.com/images/P/0231128444.0...</td>\n",
       "      <td>http://images.amazon.com/images/P/0231128444.0...</td>\n",
       "    </tr>\n",
       "    <tr>\n",
       "      <th>271349</th>\n",
       "      <td>0520242335</td>\n",
       "      <td>Strong Democracy : Participatory Politics for ...</td>\n",
       "      <td>Benjamin R. Barber</td>\n",
       "      <td>2004</td>\n",
       "      <td>University of California Press</td>\n",
       "      <td>http://images.amazon.com/images/P/0520242335.0...</td>\n",
       "      <td>http://images.amazon.com/images/P/0520242335.0...</td>\n",
       "      <td>http://images.amazon.com/images/P/0520242335.0...</td>\n",
       "    </tr>\n",
       "    <tr>\n",
       "      <th>271350</th>\n",
       "      <td>0762412119</td>\n",
       "      <td>Burpee Gardening Cyclopedia: A Concise, Up to ...</td>\n",
       "      <td>Allan Armitage</td>\n",
       "      <td>2002</td>\n",
       "      <td>Running Press Book Publishers</td>\n",
       "      <td>http://images.amazon.com/images/P/0762412119.0...</td>\n",
       "      <td>http://images.amazon.com/images/P/0762412119.0...</td>\n",
       "      <td>http://images.amazon.com/images/P/0762412119.0...</td>\n",
       "    </tr>\n",
       "    <tr>\n",
       "      <th>271351</th>\n",
       "      <td>1582380805</td>\n",
       "      <td>Tropical Rainforests: 230 Species in Full Colo...</td>\n",
       "      <td>Allen M., Ph.D. Young</td>\n",
       "      <td>2001</td>\n",
       "      <td>Golden Guides from St. Martin's Press</td>\n",
       "      <td>http://images.amazon.com/images/P/1582380805.0...</td>\n",
       "      <td>http://images.amazon.com/images/P/1582380805.0...</td>\n",
       "      <td>http://images.amazon.com/images/P/1582380805.0...</td>\n",
       "    </tr>\n",
       "    <tr>\n",
       "      <th>271352</th>\n",
       "      <td>1845170423</td>\n",
       "      <td>Cocktail Classics</td>\n",
       "      <td>David Biggs</td>\n",
       "      <td>2004</td>\n",
       "      <td>Connaught</td>\n",
       "      <td>http://images.amazon.com/images/P/1845170423.0...</td>\n",
       "      <td>http://images.amazon.com/images/P/1845170423.0...</td>\n",
       "      <td>http://images.amazon.com/images/P/1845170423.0...</td>\n",
       "    </tr>\n",
       "    <tr>\n",
       "      <th>271353</th>\n",
       "      <td>014002803X</td>\n",
       "      <td>Anti Death League</td>\n",
       "      <td>Kingsley Amis</td>\n",
       "      <td>1975</td>\n",
       "      <td>Viking Press</td>\n",
       "      <td>http://images.amazon.com/images/P/014002803X.0...</td>\n",
       "      <td>http://images.amazon.com/images/P/014002803X.0...</td>\n",
       "      <td>http://images.amazon.com/images/P/014002803X.0...</td>\n",
       "    </tr>\n",
       "    <tr>\n",
       "      <th>271354</th>\n",
       "      <td>0449906736</td>\n",
       "      <td>Flashpoints: Promise and Peril in a New World</td>\n",
       "      <td>Robin Wright</td>\n",
       "      <td>1993</td>\n",
       "      <td>Ballantine Books</td>\n",
       "      <td>http://images.amazon.com/images/P/0449906736.0...</td>\n",
       "      <td>http://images.amazon.com/images/P/0449906736.0...</td>\n",
       "      <td>http://images.amazon.com/images/P/0449906736.0...</td>\n",
       "    </tr>\n",
       "    <tr>\n",
       "      <th>271355</th>\n",
       "      <td>0440400988</td>\n",
       "      <td>There's a Bat in Bunk Five</td>\n",
       "      <td>Paula Danziger</td>\n",
       "      <td>1988</td>\n",
       "      <td>Random House Childrens Pub (Mm)</td>\n",
       "      <td>http://images.amazon.com/images/P/0440400988.0...</td>\n",
       "      <td>http://images.amazon.com/images/P/0440400988.0...</td>\n",
       "      <td>http://images.amazon.com/images/P/0440400988.0...</td>\n",
       "    </tr>\n",
       "    <tr>\n",
       "      <th>271356</th>\n",
       "      <td>0525447644</td>\n",
       "      <td>From One to One Hundred</td>\n",
       "      <td>Teri Sloat</td>\n",
       "      <td>1991</td>\n",
       "      <td>Dutton Books</td>\n",
       "      <td>http://images.amazon.com/images/P/0525447644.0...</td>\n",
       "      <td>http://images.amazon.com/images/P/0525447644.0...</td>\n",
       "      <td>http://images.amazon.com/images/P/0525447644.0...</td>\n",
       "    </tr>\n",
       "    <tr>\n",
       "      <th>271357</th>\n",
       "      <td>006008667X</td>\n",
       "      <td>Lily Dale : The True Story of the Town that Ta...</td>\n",
       "      <td>Christine Wicker</td>\n",
       "      <td>2004</td>\n",
       "      <td>HarperSanFrancisco</td>\n",
       "      <td>http://images.amazon.com/images/P/006008667X.0...</td>\n",
       "      <td>http://images.amazon.com/images/P/006008667X.0...</td>\n",
       "      <td>http://images.amazon.com/images/P/006008667X.0...</td>\n",
       "    </tr>\n",
       "    <tr>\n",
       "      <th>271358</th>\n",
       "      <td>0192126040</td>\n",
       "      <td>Republic (World's Classics)</td>\n",
       "      <td>Plato</td>\n",
       "      <td>1996</td>\n",
       "      <td>Oxford University Press</td>\n",
       "      <td>http://images.amazon.com/images/P/0192126040.0...</td>\n",
       "      <td>http://images.amazon.com/images/P/0192126040.0...</td>\n",
       "      <td>http://images.amazon.com/images/P/0192126040.0...</td>\n",
       "    </tr>\n",
       "    <tr>\n",
       "      <th>271359</th>\n",
       "      <td>0767409752</td>\n",
       "      <td>A Guided Tour of Rene Descartes' Meditations o...</td>\n",
       "      <td>Christopher  Biffle</td>\n",
       "      <td>2000</td>\n",
       "      <td>McGraw-Hill Humanities/Social Sciences/Languages</td>\n",
       "      <td>http://images.amazon.com/images/P/0767409752.0...</td>\n",
       "      <td>http://images.amazon.com/images/P/0767409752.0...</td>\n",
       "      <td>http://images.amazon.com/images/P/0767409752.0...</td>\n",
       "    </tr>\n",
       "  </tbody>\n",
       "</table>\n",
       "</div>"
      ],
      "text/plain": [
       "              ISBN                                         Book-Title  \\\n",
       "271335  381440176X  Ein Fall fÃ?Â¼r TKKG, Bd.50, Sklaven fÃ?Â¼r Wu...   \n",
       "271336  3893312307  Die Vereinten Nationen: Zwischen Anspruch und ...   \n",
       "271337  0971854823  The Female Power Within: A Guide to Living a G...   \n",
       "271338  0316640786  Christie's Collectables: Blue and White China ...   \n",
       "271339  3257217323                       Schmatz. Oder Die Sackgasse.   \n",
       "271340  3596156904                                              Amok.   \n",
       "271341  1874166633  Introducing Nietzsche (Foundations in Children...   \n",
       "271342  0130897930                 Core Web Programming (2nd Edition)   \n",
       "271343  020130998X  The Unified Modeling Language Reference Manual...   \n",
       "271344  2268032019            Petite histoire de la dÃ?Â©sinformation   \n",
       "271345  0684860112        Driving to Detroit: Memoirs of a Fast Woman   \n",
       "271346  0395264707                                         Dreamsnake   \n",
       "271347  3442150663                                        Der Mossad.   \n",
       "271348  0231128444                      Slow Food(The Case For Taste)   \n",
       "271349  0520242335  Strong Democracy : Participatory Politics for ...   \n",
       "271350  0762412119  Burpee Gardening Cyclopedia: A Concise, Up to ...   \n",
       "271351  1582380805  Tropical Rainforests: 230 Species in Full Colo...   \n",
       "271352  1845170423                                  Cocktail Classics   \n",
       "271353  014002803X                                  Anti Death League   \n",
       "271354  0449906736      Flashpoints: Promise and Peril in a New World   \n",
       "271355  0440400988                         There's a Bat in Bunk Five   \n",
       "271356  0525447644                            From One to One Hundred   \n",
       "271357  006008667X  Lily Dale : The True Story of the Town that Ta...   \n",
       "271358  0192126040                        Republic (World's Classics)   \n",
       "271359  0767409752  A Guided Tour of Rene Descartes' Meditations o...   \n",
       "\n",
       "                   Book-Author Year-Of-Publication  \\\n",
       "271335             Stefan Wolf                1989   \n",
       "271336          GÃ¼nther Unser                1995   \n",
       "271337          Marilyn Graman                2002   \n",
       "271338            Paul Tippett                1997   \n",
       "271339  Hans Werner Kettenbach                2003   \n",
       "271340        Emmanuel Carrere                2003   \n",
       "271341           Laurence Gane                1998   \n",
       "271342              Marty Hall                2001   \n",
       "271343          James Rumbaugh                1998   \n",
       "271344        Vladimir Volkoff                1999   \n",
       "271345         Lesley Hazleton                1999   \n",
       "271346       Vonda N. McIntyre                1978   \n",
       "271347        Victor Ostrovsky                2000   \n",
       "271348           Carlo Petrini                2003   \n",
       "271349      Benjamin R. Barber                2004   \n",
       "271350          Allan Armitage                2002   \n",
       "271351   Allen M., Ph.D. Young                2001   \n",
       "271352             David Biggs                2004   \n",
       "271353           Kingsley Amis                1975   \n",
       "271354            Robin Wright                1993   \n",
       "271355          Paula Danziger                1988   \n",
       "271356              Teri Sloat                1991   \n",
       "271357        Christine Wicker                2004   \n",
       "271358                   Plato                1996   \n",
       "271359     Christopher  Biffle                2000   \n",
       "\n",
       "                                               Publisher  \\\n",
       "271335                                           Pelikan   \n",
       "271336            Bundeszentrale fÃ¼r Politische Bildung   \n",
       "271337                                  Life Works Books   \n",
       "271338                              Time Warner Books UK   \n",
       "271339                                   Diogenes Verlag   \n",
       "271340                          Fischer (Tb.), Frankfurt   \n",
       "271341                                 Natl Book Network   \n",
       "271342                                 Prentice Hall PTR   \n",
       "271343                       Addison-Wesley Professional   \n",
       "271344                                Editions du Rocher   \n",
       "271345             Simon &amp; Schuster (Trade Division)   \n",
       "271346                                  Houghton Mifflin   \n",
       "271347                                          Goldmann   \n",
       "271348                         Columbia University Press   \n",
       "271349                    University of California Press   \n",
       "271350                     Running Press Book Publishers   \n",
       "271351             Golden Guides from St. Martin's Press   \n",
       "271352                                         Connaught   \n",
       "271353                                      Viking Press   \n",
       "271354                                  Ballantine Books   \n",
       "271355                   Random House Childrens Pub (Mm)   \n",
       "271356                                      Dutton Books   \n",
       "271357                                HarperSanFrancisco   \n",
       "271358                           Oxford University Press   \n",
       "271359  McGraw-Hill Humanities/Social Sciences/Languages   \n",
       "\n",
       "                                              Image-URL-S  \\\n",
       "271335  http://images.amazon.com/images/P/381440176X.0...   \n",
       "271336  http://images.amazon.com/images/P/3893312307.0...   \n",
       "271337  http://images.amazon.com/images/P/0971854823.0...   \n",
       "271338  http://images.amazon.com/images/P/0316640786.0...   \n",
       "271339  http://images.amazon.com/images/P/3257217323.0...   \n",
       "271340  http://images.amazon.com/images/P/3596156904.0...   \n",
       "271341  http://images.amazon.com/images/P/1874166633.0...   \n",
       "271342  http://images.amazon.com/images/P/0130897930.0...   \n",
       "271343  http://images.amazon.com/images/P/020130998X.0...   \n",
       "271344  http://images.amazon.com/images/P/2268032019.0...   \n",
       "271345  http://images.amazon.com/images/P/0684860112.0...   \n",
       "271346  http://images.amazon.com/images/P/0395264707.0...   \n",
       "271347  http://images.amazon.com/images/P/3442150663.0...   \n",
       "271348  http://images.amazon.com/images/P/0231128444.0...   \n",
       "271349  http://images.amazon.com/images/P/0520242335.0...   \n",
       "271350  http://images.amazon.com/images/P/0762412119.0...   \n",
       "271351  http://images.amazon.com/images/P/1582380805.0...   \n",
       "271352  http://images.amazon.com/images/P/1845170423.0...   \n",
       "271353  http://images.amazon.com/images/P/014002803X.0...   \n",
       "271354  http://images.amazon.com/images/P/0449906736.0...   \n",
       "271355  http://images.amazon.com/images/P/0440400988.0...   \n",
       "271356  http://images.amazon.com/images/P/0525447644.0...   \n",
       "271357  http://images.amazon.com/images/P/006008667X.0...   \n",
       "271358  http://images.amazon.com/images/P/0192126040.0...   \n",
       "271359  http://images.amazon.com/images/P/0767409752.0...   \n",
       "\n",
       "                                              Image-URL-M  \\\n",
       "271335  http://images.amazon.com/images/P/381440176X.0...   \n",
       "271336  http://images.amazon.com/images/P/3893312307.0...   \n",
       "271337  http://images.amazon.com/images/P/0971854823.0...   \n",
       "271338  http://images.amazon.com/images/P/0316640786.0...   \n",
       "271339  http://images.amazon.com/images/P/3257217323.0...   \n",
       "271340  http://images.amazon.com/images/P/3596156904.0...   \n",
       "271341  http://images.amazon.com/images/P/1874166633.0...   \n",
       "271342  http://images.amazon.com/images/P/0130897930.0...   \n",
       "271343  http://images.amazon.com/images/P/020130998X.0...   \n",
       "271344  http://images.amazon.com/images/P/2268032019.0...   \n",
       "271345  http://images.amazon.com/images/P/0684860112.0...   \n",
       "271346  http://images.amazon.com/images/P/0395264707.0...   \n",
       "271347  http://images.amazon.com/images/P/3442150663.0...   \n",
       "271348  http://images.amazon.com/images/P/0231128444.0...   \n",
       "271349  http://images.amazon.com/images/P/0520242335.0...   \n",
       "271350  http://images.amazon.com/images/P/0762412119.0...   \n",
       "271351  http://images.amazon.com/images/P/1582380805.0...   \n",
       "271352  http://images.amazon.com/images/P/1845170423.0...   \n",
       "271353  http://images.amazon.com/images/P/014002803X.0...   \n",
       "271354  http://images.amazon.com/images/P/0449906736.0...   \n",
       "271355  http://images.amazon.com/images/P/0440400988.0...   \n",
       "271356  http://images.amazon.com/images/P/0525447644.0...   \n",
       "271357  http://images.amazon.com/images/P/006008667X.0...   \n",
       "271358  http://images.amazon.com/images/P/0192126040.0...   \n",
       "271359  http://images.amazon.com/images/P/0767409752.0...   \n",
       "\n",
       "                                              Image-URL-L  \n",
       "271335  http://images.amazon.com/images/P/381440176X.0...  \n",
       "271336  http://images.amazon.com/images/P/3893312307.0...  \n",
       "271337  http://images.amazon.com/images/P/0971854823.0...  \n",
       "271338  http://images.amazon.com/images/P/0316640786.0...  \n",
       "271339  http://images.amazon.com/images/P/3257217323.0...  \n",
       "271340  http://images.amazon.com/images/P/3596156904.0...  \n",
       "271341  http://images.amazon.com/images/P/1874166633.0...  \n",
       "271342  http://images.amazon.com/images/P/0130897930.0...  \n",
       "271343  http://images.amazon.com/images/P/020130998X.0...  \n",
       "271344  http://images.amazon.com/images/P/2268032019.0...  \n",
       "271345  http://images.amazon.com/images/P/0684860112.0...  \n",
       "271346  http://images.amazon.com/images/P/0395264707.0...  \n",
       "271347  http://images.amazon.com/images/P/3442150663.0...  \n",
       "271348  http://images.amazon.com/images/P/0231128444.0...  \n",
       "271349  http://images.amazon.com/images/P/0520242335.0...  \n",
       "271350  http://images.amazon.com/images/P/0762412119.0...  \n",
       "271351  http://images.amazon.com/images/P/1582380805.0...  \n",
       "271352  http://images.amazon.com/images/P/1845170423.0...  \n",
       "271353  http://images.amazon.com/images/P/014002803X.0...  \n",
       "271354  http://images.amazon.com/images/P/0449906736.0...  \n",
       "271355  http://images.amazon.com/images/P/0440400988.0...  \n",
       "271356  http://images.amazon.com/images/P/0525447644.0...  \n",
       "271357  http://images.amazon.com/images/P/006008667X.0...  \n",
       "271358  http://images.amazon.com/images/P/0192126040.0...  \n",
       "271359  http://images.amazon.com/images/P/0767409752.0...  "
      ]
     },
     "execution_count": 6,
     "metadata": {},
     "output_type": "execute_result"
    }
   ],
   "source": [
    "# Check output - view current column headers and preview\n",
    "\n",
    "df_Books.tail(25)"
   ]
  },
  {
   "cell_type": "code",
   "execution_count": 7,
   "id": "430404bc",
   "metadata": {},
   "outputs": [
    {
     "name": "stdout",
     "output_type": "stream",
     "text": [
      "<class 'pandas.core.frame.DataFrame'>\n",
      "RangeIndex: 271360 entries, 0 to 271359\n",
      "Data columns (total 8 columns):\n",
      " #   Column               Non-Null Count   Dtype \n",
      "---  ------               --------------   ----- \n",
      " 0   ISBN                 271360 non-null  object\n",
      " 1   Book-Title           271360 non-null  object\n",
      " 2   Book-Author          271358 non-null  object\n",
      " 3   Year-Of-Publication  271360 non-null  object\n",
      " 4   Publisher            271358 non-null  object\n",
      " 5   Image-URL-S          271360 non-null  object\n",
      " 6   Image-URL-M          271360 non-null  object\n",
      " 7   Image-URL-L          271357 non-null  object\n",
      "dtypes: object(8)\n",
      "memory usage: 16.6+ MB\n"
     ]
    }
   ],
   "source": [
    "# Check data types for each column and non-null values\n",
    "\n",
    "df_Books.info()"
   ]
  },
  {
   "cell_type": "code",
   "execution_count": 8,
   "id": "cf423912",
   "metadata": {},
   "outputs": [
    {
     "name": "stdout",
     "output_type": "stream",
     "text": [
      "Book-Author\n",
      "Year-Of-Publication\n",
      "Publisher\n",
      "Image-URL-L\n"
     ]
    }
   ],
   "source": [
    "# Check for mixed data types\n",
    "\n",
    "for col in df_Books.columns.tolist():\n",
    "  weird = (df_Books[[col]].map(type) != df_Books[[col]].iloc[0].apply(type)).any(axis = 1)\n",
    "  if len (df_Books[weird]) > 0:\n",
    "    print (col)"
   ]
  },
  {
   "cell_type": "code",
   "execution_count": 9,
   "id": "879614d7",
   "metadata": {},
   "outputs": [
    {
     "data": {
      "text/plain": [
       "ISBN                   0\n",
       "Book-Title             0\n",
       "Book-Author            2\n",
       "Year-Of-Publication    0\n",
       "Publisher              2\n",
       "Image-URL-S            0\n",
       "Image-URL-M            0\n",
       "Image-URL-L            3\n",
       "dtype: int64"
      ]
     },
     "execution_count": 9,
     "metadata": {},
     "output_type": "execute_result"
    }
   ],
   "source": [
    "# Find missing values by summing the number of null values in each column\n",
    "\n",
    "df_Books.isnull().sum()"
   ]
  },
  {
   "cell_type": "code",
   "execution_count": 10,
   "id": "93d4a518",
   "metadata": {},
   "outputs": [
    {
     "data": {
      "text/html": [
       "<div>\n",
       "<style scoped>\n",
       "    .dataframe tbody tr th:only-of-type {\n",
       "        vertical-align: middle;\n",
       "    }\n",
       "\n",
       "    .dataframe tbody tr th {\n",
       "        vertical-align: top;\n",
       "    }\n",
       "\n",
       "    .dataframe thead th {\n",
       "        text-align: right;\n",
       "    }\n",
       "</style>\n",
       "<table border=\"1\" class=\"dataframe\">\n",
       "  <thead>\n",
       "    <tr style=\"text-align: right;\">\n",
       "      <th></th>\n",
       "      <th>ISBN</th>\n",
       "      <th>Book-Title</th>\n",
       "      <th>Book-Author</th>\n",
       "      <th>Year-Of-Publication</th>\n",
       "      <th>Publisher</th>\n",
       "      <th>Image-URL-S</th>\n",
       "      <th>Image-URL-M</th>\n",
       "      <th>Image-URL-L</th>\n",
       "    </tr>\n",
       "  </thead>\n",
       "  <tbody>\n",
       "  </tbody>\n",
       "</table>\n",
       "</div>"
      ],
      "text/plain": [
       "Empty DataFrame\n",
       "Columns: [ISBN, Book-Title, Book-Author, Year-Of-Publication, Publisher, Image-URL-S, Image-URL-M, Image-URL-L]\n",
       "Index: []"
      ]
     },
     "execution_count": 10,
     "metadata": {},
     "output_type": "execute_result"
    }
   ],
   "source": [
    "# Find any duplicate values in df through a subset\n",
    "\n",
    "df_dups = df_Books[df_Books.duplicated()]\n",
    "df_dups"
   ]
  },
  {
   "cell_type": "markdown",
   "id": "8af8e4b4",
   "metadata": {},
   "source": [
    "## Descriptive Analysis"
   ]
  },
  {
   "cell_type": "code",
   "execution_count": 11,
   "id": "c2ed50de",
   "metadata": {},
   "outputs": [
    {
     "data": {
      "text/html": [
       "<div>\n",
       "<style scoped>\n",
       "    .dataframe tbody tr th:only-of-type {\n",
       "        vertical-align: middle;\n",
       "    }\n",
       "\n",
       "    .dataframe tbody tr th {\n",
       "        vertical-align: top;\n",
       "    }\n",
       "\n",
       "    .dataframe thead th {\n",
       "        text-align: right;\n",
       "    }\n",
       "</style>\n",
       "<table border=\"1\" class=\"dataframe\">\n",
       "  <thead>\n",
       "    <tr style=\"text-align: right;\">\n",
       "      <th></th>\n",
       "      <th>ISBN</th>\n",
       "      <th>Book-Title</th>\n",
       "      <th>Book-Author</th>\n",
       "      <th>Year-Of-Publication</th>\n",
       "      <th>Publisher</th>\n",
       "      <th>Image-URL-S</th>\n",
       "      <th>Image-URL-M</th>\n",
       "      <th>Image-URL-L</th>\n",
       "    </tr>\n",
       "  </thead>\n",
       "  <tbody>\n",
       "    <tr>\n",
       "      <th>count</th>\n",
       "      <td>271360</td>\n",
       "      <td>271360</td>\n",
       "      <td>271358</td>\n",
       "      <td>271360</td>\n",
       "      <td>271358</td>\n",
       "      <td>271360</td>\n",
       "      <td>271360</td>\n",
       "      <td>271357</td>\n",
       "    </tr>\n",
       "    <tr>\n",
       "      <th>unique</th>\n",
       "      <td>271360</td>\n",
       "      <td>242135</td>\n",
       "      <td>102022</td>\n",
       "      <td>202</td>\n",
       "      <td>16807</td>\n",
       "      <td>271044</td>\n",
       "      <td>271044</td>\n",
       "      <td>271041</td>\n",
       "    </tr>\n",
       "    <tr>\n",
       "      <th>top</th>\n",
       "      <td>0195153448</td>\n",
       "      <td>Selected Poems</td>\n",
       "      <td>Agatha Christie</td>\n",
       "      <td>2002</td>\n",
       "      <td>Harlequin</td>\n",
       "      <td>http://images.amazon.com/images/P/185326119X.0...</td>\n",
       "      <td>http://images.amazon.com/images/P/185326119X.0...</td>\n",
       "      <td>http://images.amazon.com/images/P/225307649X.0...</td>\n",
       "    </tr>\n",
       "    <tr>\n",
       "      <th>freq</th>\n",
       "      <td>1</td>\n",
       "      <td>27</td>\n",
       "      <td>632</td>\n",
       "      <td>13903</td>\n",
       "      <td>7535</td>\n",
       "      <td>2</td>\n",
       "      <td>2</td>\n",
       "      <td>2</td>\n",
       "    </tr>\n",
       "  </tbody>\n",
       "</table>\n",
       "</div>"
      ],
      "text/plain": [
       "              ISBN      Book-Title      Book-Author  Year-Of-Publication  \\\n",
       "count       271360          271360           271358               271360   \n",
       "unique      271360          242135           102022                  202   \n",
       "top     0195153448  Selected Poems  Agatha Christie                 2002   \n",
       "freq             1              27              632                13903   \n",
       "\n",
       "        Publisher                                        Image-URL-S  \\\n",
       "count      271358                                             271360   \n",
       "unique      16807                                             271044   \n",
       "top     Harlequin  http://images.amazon.com/images/P/185326119X.0...   \n",
       "freq         7535                                                  2   \n",
       "\n",
       "                                              Image-URL-M  \\\n",
       "count                                              271360   \n",
       "unique                                             271044   \n",
       "top     http://images.amazon.com/images/P/185326119X.0...   \n",
       "freq                                                    2   \n",
       "\n",
       "                                              Image-URL-L  \n",
       "count                                              271357  \n",
       "unique                                             271041  \n",
       "top     http://images.amazon.com/images/P/225307649X.0...  \n",
       "freq                                                    2  "
      ]
     },
     "execution_count": 11,
     "metadata": {},
     "output_type": "execute_result"
    }
   ],
   "source": [
    "# Check output stats\n",
    "\n",
    "df_Books.describe()"
   ]
  },
  {
   "cell_type": "markdown",
   "id": "182a39f2",
   "metadata": {},
   "source": [
    "## Observations from Exploration and Analysis"
   ]
  },
  {
   "cell_type": "markdown",
   "id": "23b65e37",
   "metadata": {},
   "source": [
    "Based on the initial data profile and analysis:\n",
    "\n",
    "- Need to eliminate three image columns\n",
    "- Determine best way to address missing values for author and publisher and fix if needed\n",
    "- Need to fix mixed-data types or assign correct for others\n",
    "- - Need to investigate and potentially address the values in the publication year – the number of distinct values is suspicious. Outliers or inaccurate?\n",
    "- Note that some of the string columns (title, author, publisher) have some odd characters, possibly due to foreign languages or characters. Since will be unable to fix these characters, need to ensure that author and publisher are at least consistent with these characters so there aren't duplicates. Titles should be okayas there should only be one instance of each."
   ]
  },
  {
   "cell_type": "markdown",
   "id": "e85461b9",
   "metadata": {},
   "source": [
    "# 03. Data Cleaning"
   ]
  },
  {
   "cell_type": "markdown",
   "id": "b76955a2",
   "metadata": {},
   "source": [
    "## Unnecessary columns/variables"
   ]
  },
  {
   "cell_type": "code",
   "execution_count": 12,
   "id": "6b8bf654",
   "metadata": {},
   "outputs": [],
   "source": [
    "# Create list only of desired columns\n",
    "\n",
    "vars_list = ['ISBN', 'Book-Title', 'Book-Author', 'Year-Of-Publication', 'Publisher']"
   ]
  },
  {
   "cell_type": "code",
   "execution_count": 13,
   "id": "5a0fdd70",
   "metadata": {},
   "outputs": [
    {
     "data": {
      "text/plain": [
       "['ISBN', 'Book-Title', 'Book-Author', 'Year-Of-Publication', 'Publisher']"
      ]
     },
     "execution_count": 13,
     "metadata": {},
     "output_type": "execute_result"
    }
   ],
   "source": [
    "vars_list"
   ]
  },
  {
   "cell_type": "code",
   "execution_count": 14,
   "id": "5387e0ea",
   "metadata": {},
   "outputs": [
    {
     "name": "stderr",
     "output_type": "stream",
     "text": [
      "/var/folders/yg/0kmnml152y57r36vt3dk72680000gn/T/ipykernel_4534/3590448428.py:3: DtypeWarning: Columns (3) have mixed types. Specify dtype option on import or set low_memory=False.\n",
      "  df_Books = pd.read_csv(os.path.join(projpath, '02 Data', 'Dataset ORIGINAL', 'Books.csv'), usecols = vars_list)\n"
     ]
    }
   ],
   "source": [
    "# Import file again with only desired columns\n",
    "\n",
    "df_Books = pd.read_csv(os.path.join(projpath, '02 Data', 'Dataset ORIGINAL', 'Books.csv'), usecols = vars_list)"
   ]
  },
  {
   "cell_type": "code",
   "execution_count": 15,
   "id": "d56bd720",
   "metadata": {},
   "outputs": [
    {
     "name": "stdout",
     "output_type": "stream",
     "text": [
      "<class 'pandas.core.frame.DataFrame'>\n",
      "RangeIndex: 271360 entries, 0 to 271359\n",
      "Data columns (total 5 columns):\n",
      " #   Column               Non-Null Count   Dtype \n",
      "---  ------               --------------   ----- \n",
      " 0   ISBN                 271360 non-null  object\n",
      " 1   Book-Title           271360 non-null  object\n",
      " 2   Book-Author          271358 non-null  object\n",
      " 3   Year-Of-Publication  271360 non-null  object\n",
      " 4   Publisher            271358 non-null  object\n",
      "dtypes: object(5)\n",
      "memory usage: 10.4+ MB\n"
     ]
    }
   ],
   "source": [
    "# Verify column update in df\n",
    "\n",
    "df_Books.info()"
   ]
  },
  {
   "cell_type": "markdown",
   "id": "1ab0650d",
   "metadata": {},
   "source": [
    "## Missing data"
   ]
  },
  {
   "cell_type": "code",
   "execution_count": 16,
   "id": "fd00dc16",
   "metadata": {},
   "outputs": [
    {
     "data": {
      "text/plain": [
       "ISBN                   0\n",
       "Book-Title             0\n",
       "Book-Author            2\n",
       "Year-Of-Publication    0\n",
       "Publisher              2\n",
       "dtype: int64"
      ]
     },
     "execution_count": 16,
     "metadata": {},
     "output_type": "execute_result"
    }
   ],
   "source": [
    "# Check for missing values to confirm using new columns\n",
    "\n",
    "df_Books.isnull().sum()\n"
   ]
  },
  {
   "cell_type": "markdown",
   "id": "7bbacad2",
   "metadata": {},
   "source": [
    "**Observed** Since so few rows are missing publisher and author vs overall count of lines, will remove from df"
   ]
  },
  {
   "cell_type": "code",
   "execution_count": 17,
   "id": "865cb515",
   "metadata": {},
   "outputs": [
    {
     "data": {
      "text/html": [
       "<div>\n",
       "<style scoped>\n",
       "    .dataframe tbody tr th:only-of-type {\n",
       "        vertical-align: middle;\n",
       "    }\n",
       "\n",
       "    .dataframe tbody tr th {\n",
       "        vertical-align: top;\n",
       "    }\n",
       "\n",
       "    .dataframe thead th {\n",
       "        text-align: right;\n",
       "    }\n",
       "</style>\n",
       "<table border=\"1\" class=\"dataframe\">\n",
       "  <thead>\n",
       "    <tr style=\"text-align: right;\">\n",
       "      <th></th>\n",
       "      <th>ISBN</th>\n",
       "      <th>Book-Title</th>\n",
       "      <th>Book-Author</th>\n",
       "      <th>Year-Of-Publication</th>\n",
       "      <th>Publisher</th>\n",
       "    </tr>\n",
       "  </thead>\n",
       "  <tbody>\n",
       "  </tbody>\n",
       "</table>\n",
       "</div>"
      ],
      "text/plain": [
       "Empty DataFrame\n",
       "Columns: [ISBN, Book-Title, Book-Author, Year-Of-Publication, Publisher]\n",
       "Index: []"
      ]
     },
     "execution_count": 17,
     "metadata": {},
     "output_type": "execute_result"
    }
   ],
   "source": [
    "# Remove rows for where Author is null and verify removed\n",
    "\n",
    "df_Books.dropna(subset=['Book-Author'], inplace=True)\n",
    "df_Books[df_Books['Book-Author'].isnull()]\n"
   ]
  },
  {
   "cell_type": "code",
   "execution_count": 18,
   "id": "f7b5159a",
   "metadata": {},
   "outputs": [
    {
     "data": {
      "text/html": [
       "<div>\n",
       "<style scoped>\n",
       "    .dataframe tbody tr th:only-of-type {\n",
       "        vertical-align: middle;\n",
       "    }\n",
       "\n",
       "    .dataframe tbody tr th {\n",
       "        vertical-align: top;\n",
       "    }\n",
       "\n",
       "    .dataframe thead th {\n",
       "        text-align: right;\n",
       "    }\n",
       "</style>\n",
       "<table border=\"1\" class=\"dataframe\">\n",
       "  <thead>\n",
       "    <tr style=\"text-align: right;\">\n",
       "      <th></th>\n",
       "      <th>ISBN</th>\n",
       "      <th>Book-Title</th>\n",
       "      <th>Book-Author</th>\n",
       "      <th>Year-Of-Publication</th>\n",
       "      <th>Publisher</th>\n",
       "    </tr>\n",
       "  </thead>\n",
       "  <tbody>\n",
       "  </tbody>\n",
       "</table>\n",
       "</div>"
      ],
      "text/plain": [
       "Empty DataFrame\n",
       "Columns: [ISBN, Book-Title, Book-Author, Year-Of-Publication, Publisher]\n",
       "Index: []"
      ]
     },
     "execution_count": 18,
     "metadata": {},
     "output_type": "execute_result"
    }
   ],
   "source": [
    "# Remove rows for where Author is null and verify removed\n",
    "\n",
    "df_Books.dropna(subset=['Publisher'], inplace=True)\n",
    "df_Books[df_Books['Publisher'].isnull()]\n"
   ]
  },
  {
   "cell_type": "markdown",
   "id": "40a0c0b1",
   "metadata": {},
   "source": [
    "## Duplicates"
   ]
  },
  {
   "cell_type": "code",
   "execution_count": 19,
   "id": "3c30126a",
   "metadata": {},
   "outputs": [],
   "source": [
    "# No action needed"
   ]
  },
  {
   "cell_type": "markdown",
   "id": "0f9a518e",
   "metadata": {},
   "source": [
    "## Inaccurate/inconsistent data"
   ]
  },
  {
   "cell_type": "code",
   "execution_count": 20,
   "id": "9f93837f",
   "metadata": {},
   "outputs": [],
   "source": [
    "# No action needed - will explore potential inaccurate data in outliers section"
   ]
  },
  {
   "cell_type": "markdown",
   "id": "4ffb1627",
   "metadata": {},
   "source": [
    "## Mixed-type columns"
   ]
  },
  {
   "cell_type": "code",
   "execution_count": 21,
   "id": "e9bfdcb3",
   "metadata": {},
   "outputs": [],
   "source": [
    "# Change the datatype for the columns currently showing as mixed-datatypes: Book-Author, Year-Of-Publication, Publisher\n",
    "\n",
    "# Change author and publisher to string\n",
    "\n",
    "df_Books['Book-Author'] = df_Books['Book-Author'].astype(str)\n",
    "df_Books['Publisher'] = df_Books['Publisher'].astype(str)\n",
    "#df_Books['Year-Of-Publication'] = df_Books['Year-Of-Publication'].astype(int)"
   ]
  },
  {
   "cell_type": "code",
   "execution_count": 22,
   "id": "b7804b47",
   "metadata": {},
   "outputs": [],
   "source": [
    "# Change year of publication to integer\n",
    "\n",
    "df_Books['Year-Of-Publication'] = pd.to_numeric(df_Books['Year-Of-Publication'], errors='coerce').fillna(0).astype(int)\n"
   ]
  },
  {
   "cell_type": "code",
   "execution_count": 23,
   "id": "b1b22536",
   "metadata": {},
   "outputs": [
    {
     "name": "stdout",
     "output_type": "stream",
     "text": [
      "<class 'pandas.core.frame.DataFrame'>\n",
      "Index: 271356 entries, 0 to 271359\n",
      "Data columns (total 5 columns):\n",
      " #   Column               Non-Null Count   Dtype \n",
      "---  ------               --------------   ----- \n",
      " 0   ISBN                 271356 non-null  object\n",
      " 1   Book-Title           271356 non-null  object\n",
      " 2   Book-Author          271356 non-null  object\n",
      " 3   Year-Of-Publication  271356 non-null  int64 \n",
      " 4   Publisher            271356 non-null  object\n",
      "dtypes: int64(1), object(4)\n",
      "memory usage: 12.4+ MB\n"
     ]
    }
   ],
   "source": [
    "# Verify datatype update in df\n",
    "\n",
    "df_Books.info()"
   ]
  },
  {
   "cell_type": "code",
   "execution_count": 24,
   "id": "b100e0ab",
   "metadata": {},
   "outputs": [],
   "source": [
    "# Check for mixed data types\n",
    "\n",
    "for col in df_Books.columns.tolist():\n",
    "  weird = (df_Books[[col]].map(type) != df_Books[[col]].iloc[0].apply(type)).any(axis = 1)\n",
    "  if len (df_Books[weird]) > 0:\n",
    "    print (col)"
   ]
  },
  {
   "cell_type": "markdown",
   "id": "28801913",
   "metadata": {},
   "source": [
    "**Confirmed** No more mixed data types present."
   ]
  },
  {
   "cell_type": "markdown",
   "id": "cd5697f3",
   "metadata": {},
   "source": [
    "## Outliers"
   ]
  },
  {
   "cell_type": "code",
   "execution_count": 25,
   "id": "ef20a4fd",
   "metadata": {},
   "outputs": [
    {
     "data": {
      "text/plain": [
       "Year-Of-Publication\n",
       "2002    17626\n",
       "1999    17430\n",
       "2001    17358\n",
       "2000    17232\n",
       "1998    15766\n",
       "        ...  \n",
       "1910        1\n",
       "1934        1\n",
       "1914        1\n",
       "1904        1\n",
       "2037        1\n",
       "Name: count, Length: 116, dtype: int64"
      ]
     },
     "execution_count": 25,
     "metadata": {},
     "output_type": "execute_result"
    }
   ],
   "source": [
    "# Explore why there are 202 unique values in the publishing year column by looking at how many exist\n",
    "\n",
    "df_Books['Year-Of-Publication'].value_counts()\n"
   ]
  },
  {
   "cell_type": "code",
   "execution_count": 26,
   "id": "c769e721",
   "metadata": {},
   "outputs": [
    {
     "name": "stdout",
     "output_type": "stream",
     "text": [
      "Minimum Year of Publication: 0\n",
      "Maximum Year of Publication: 2050\n"
     ]
    }
   ],
   "source": [
    "# Check out the minimum and maximum values to get a better idea of the range\n",
    "\n",
    "min_year = df_Books['Year-Of-Publication'].min()\n",
    "max_year = df_Books['Year-Of-Publication'].max()\n",
    "\n",
    "print(f\"Minimum Year of Publication: {min_year}\")\n",
    "print(f\"Maximum Year of Publication: {max_year}\")\n"
   ]
  },
  {
   "cell_type": "markdown",
   "id": "d92cac52",
   "metadata": {},
   "source": [
    "**Observation** Interesting that the minimum publication year is 0, which can't be right. Also need to decide if I want to include future publications in data or not. Also, the value counts returned that there are 116 unique values not 202, so that's helpful. Still need a better idea on the spread."
   ]
  },
  {
   "cell_type": "code",
   "execution_count": 27,
   "id": "cd6cf8ba",
   "metadata": {},
   "outputs": [
    {
     "data": {
      "text/plain": [
       "<Axes: ylabel='Frequency'>"
      ]
     },
     "execution_count": 27,
     "metadata": {},
     "output_type": "execute_result"
    },
    {
     "data": {
      "image/png": "[encoded data removed]",
      "text/plain": [
       "<Figure size 640x480 with 1 Axes>"
      ]
     },
     "metadata": {},
     "output_type": "display_data"
    }
   ],
   "source": [
    "# Plot out the distribution of years in histogram\n",
    "\n",
    "df_Books['Year-Of-Publication'].plot.hist(bins = 10)\n"
   ]
  },
  {
   "cell_type": "markdown",
   "id": "1d5b1411",
   "metadata": {},
   "source": [
    "**Observed** The majority of values are from the 1900-2000 timeframe, which is expected. Need to find out how many zero-value rows exist. The zero is likely a placeholder for unknkown years, which doesn't help any analysis."
   ]
  },
  {
   "cell_type": "code",
   "execution_count": 28,
   "id": "99baae92",
   "metadata": {},
   "outputs": [
    {
     "data": {
      "text/plain": [
       "4621"
      ]
     },
     "execution_count": 28,
     "metadata": {},
     "output_type": "execute_result"
    }
   ],
   "source": [
    "# Count how many rows contain values of zero for publication year to assess impact of deletion\n",
    "\n",
    "(df_Books['Year-Of-Publication'] == 0).sum()"
   ]
  },
  {
   "cell_type": "code",
   "execution_count": 29,
   "id": "f9a4f74e",
   "metadata": {},
   "outputs": [
    {
     "data": {
      "text/plain": [
       "(271356, 5)"
      ]
     },
     "execution_count": 29,
     "metadata": {},
     "output_type": "execute_result"
    }
   ],
   "source": [
    "# Check shape for current number of rows in df\n",
    "\n",
    "df_Books.shape"
   ]
  },
  {
   "cell_type": "markdown",
   "id": "05894703",
   "metadata": {},
   "source": [
    "**Conclusion** 271356 total rows currently, so about 1-2% of the data has no value for the year.This could skew the time series analysis and so these rows are best removed.\n"
   ]
  },
  {
   "cell_type": "code",
   "execution_count": 30,
   "id": "32069ebe",
   "metadata": {},
   "outputs": [
    {
     "data": {
      "text/plain": [
       "0"
      ]
     },
     "execution_count": 30,
     "metadata": {},
     "output_type": "execute_result"
    }
   ],
   "source": [
    "# Remove rows where the value in the \"Year-Of-Publication\" column is zero then recount\n",
    "\n",
    "df_Books = df_Books[df_Books['Year-Of-Publication'] != 0]\n",
    "(df_Books['Year-Of-Publication'] == 0).sum()\n"
   ]
  },
  {
   "cell_type": "markdown",
   "id": "ed251770",
   "metadata": {},
   "source": [
    "**Confirmed** All rows where the year of publication is zero have been removed. Now, need to see if there are any other outliers, such as publication years before 1900."
   ]
  },
  {
   "cell_type": "code",
   "execution_count": 31,
   "id": "159f18df",
   "metadata": {},
   "outputs": [
    {
     "data": {
      "text/plain": [
       "7"
      ]
     },
     "execution_count": 31,
     "metadata": {},
     "output_type": "execute_result"
    }
   ],
   "source": [
    "# Count how many rows contain values less than 1900 for publication year to assess impact of deletion\n",
    "\n",
    "(df_Books['Year-Of-Publication'] <= 1900).sum()"
   ]
  },
  {
   "cell_type": "markdown",
   "id": "1cb1d7b6",
   "metadata": {},
   "source": [
    "**Conclusion** The impact of removing these rows is low and will keep the focus on the analysis more relevant."
   ]
  },
  {
   "cell_type": "code",
   "execution_count": 32,
   "id": "1f294a69",
   "metadata": {},
   "outputs": [
    {
     "data": {
      "text/plain": [
       "0"
      ]
     },
     "execution_count": 32,
     "metadata": {},
     "output_type": "execute_result"
    }
   ],
   "source": [
    "# Remove rows where the value in the \"Year-Of-Publication\" column is before 1900 then recount\n",
    "\n",
    "df_Books = df_Books[df_Books['Year-Of-Publication'] > 1900]\n",
    "(df_Books['Year-Of-Publication'] <= 1900).sum()\n"
   ]
  },
  {
   "cell_type": "markdown",
   "id": "0ab76516",
   "metadata": {},
   "source": [
    "**Confirmed** Rows where the year of publication is before 1900 have been removed."
   ]
  },
  {
   "cell_type": "code",
   "execution_count": 33,
   "id": "d24b2c09",
   "metadata": {},
   "outputs": [
    {
     "data": {
      "text/plain": [
       "72"
      ]
     },
     "execution_count": 33,
     "metadata": {},
     "output_type": "execute_result"
    }
   ],
   "source": [
    "# As this data was pulled from its source in 2004, let's see how many publications after that year are included in the dataset to know how they mayuskew any results.\n",
    "\n",
    "# Count how many rows contain values greater than 2004 for publication year to assess impact of deletion\n",
    "\n",
    "(df_Books['Year-Of-Publication'] > 2004).sum()"
   ]
  },
  {
   "cell_type": "markdown",
   "id": "795b1a1e",
   "metadata": {},
   "source": [
    "**Conclusion** The impact of removing these rows is low and will keep the focus on the analysis more relevant."
   ]
  },
  {
   "cell_type": "code",
   "execution_count": 34,
   "id": "da6a119b",
   "metadata": {},
   "outputs": [
    {
     "data": {
      "text/plain": [
       "0"
      ]
     },
     "execution_count": 34,
     "metadata": {},
     "output_type": "execute_result"
    }
   ],
   "source": [
    "# Remove rows where the value in the \"Year-Of-Publication\" column is after 2004 then recount\n",
    "\n",
    "df_Books = df_Books[df_Books['Year-Of-Publication'] <= 2004]\n",
    "(df_Books['Year-Of-Publication'] > 2004).sum()\n"
   ]
  },
  {
   "cell_type": "markdown",
   "id": "0de64823",
   "metadata": {},
   "source": [
    "**Confirmed** Rows where the year of publication is after 2004 have been removed."
   ]
  },
  {
   "cell_type": "code",
   "execution_count": 35,
   "id": "e9e00835",
   "metadata": {},
   "outputs": [
    {
     "data": {
      "text/plain": [
       "<Axes: ylabel='Frequency'>"
      ]
     },
     "execution_count": 35,
     "metadata": {},
     "output_type": "execute_result"
    },
    {
     "data": {
      "image/png": "[encoded data removed]",
      "text/plain": [
       "<Figure size 640x480 with 1 Axes>"
      ]
     },
     "metadata": {},
     "output_type": "display_data"
    }
   ],
   "source": [
    "# Re-plot out the distribution of years in histogram to verify new range and distribution\n",
    "\n",
    "df_Books['Year-Of-Publication'].plot.hist(bins = 10)"
   ]
  },
  {
   "cell_type": "code",
   "execution_count": 36,
   "id": "7444613b",
   "metadata": {},
   "outputs": [
    {
     "name": "stdout",
     "output_type": "stream",
     "text": [
      "Minimum Year of Publication: 1901\n",
      "Maximum Year of Publication: 2004\n"
     ]
    }
   ],
   "source": [
    "# Recheck out the minimum and maximum values to get a better idea of the range\n",
    "\n",
    "min_year = df_Books['Year-Of-Publication'].min()\n",
    "max_year = df_Books['Year-Of-Publication'].max()\n",
    "\n",
    "print(f\"Minimum Year of Publication: {min_year}\")\n",
    "print(f\"Maximum Year of Publication: {max_year}\")"
   ]
  },
  {
   "cell_type": "markdown",
   "id": "474833a1",
   "metadata": {},
   "source": [
    "## Unclear column headers"
   ]
  },
  {
   "cell_type": "code",
   "execution_count": 37,
   "id": "faadd129",
   "metadata": {},
   "outputs": [],
   "source": [
    "# No action needed"
   ]
  },
  {
   "cell_type": "markdown",
   "id": "af9807ca",
   "metadata": {},
   "source": [
    "## Data Profiling Re-checks"
   ]
  },
  {
   "cell_type": "code",
   "execution_count": 38,
   "id": "502d328b",
   "metadata": {},
   "outputs": [
    {
     "data": {
      "text/plain": [
       "(266656, 5)"
      ]
     },
     "execution_count": 38,
     "metadata": {},
     "output_type": "execute_result"
    }
   ],
   "source": [
    "# Recheck shape\n",
    "\n",
    "df_Books.shape"
   ]
  },
  {
   "cell_type": "code",
   "execution_count": 39,
   "id": "6cea7a72",
   "metadata": {},
   "outputs": [
    {
     "data": {
      "text/html": [
       "<div>\n",
       "<style scoped>\n",
       "    .dataframe tbody tr th:only-of-type {\n",
       "        vertical-align: middle;\n",
       "    }\n",
       "\n",
       "    .dataframe tbody tr th {\n",
       "        vertical-align: top;\n",
       "    }\n",
       "\n",
       "    .dataframe thead th {\n",
       "        text-align: right;\n",
       "    }\n",
       "</style>\n",
       "<table border=\"1\" class=\"dataframe\">\n",
       "  <thead>\n",
       "    <tr style=\"text-align: right;\">\n",
       "      <th></th>\n",
       "      <th>ISBN</th>\n",
       "      <th>Book-Title</th>\n",
       "      <th>Book-Author</th>\n",
       "      <th>Year-Of-Publication</th>\n",
       "      <th>Publisher</th>\n",
       "    </tr>\n",
       "  </thead>\n",
       "  <tbody>\n",
       "    <tr>\n",
       "      <th>0</th>\n",
       "      <td>0195153448</td>\n",
       "      <td>Classical Mythology</td>\n",
       "      <td>Mark P. O. Morford</td>\n",
       "      <td>2002</td>\n",
       "      <td>Oxford University Press</td>\n",
       "    </tr>\n",
       "    <tr>\n",
       "      <th>1</th>\n",
       "      <td>0002005018</td>\n",
       "      <td>Clara Callan</td>\n",
       "      <td>Richard Bruce Wright</td>\n",
       "      <td>2001</td>\n",
       "      <td>HarperFlamingo Canada</td>\n",
       "    </tr>\n",
       "    <tr>\n",
       "      <th>2</th>\n",
       "      <td>0060973129</td>\n",
       "      <td>Decision in Normandy</td>\n",
       "      <td>Carlo D'Este</td>\n",
       "      <td>1991</td>\n",
       "      <td>HarperPerennial</td>\n",
       "    </tr>\n",
       "    <tr>\n",
       "      <th>3</th>\n",
       "      <td>0374157065</td>\n",
       "      <td>Flu: The Story of the Great Influenza Pandemic...</td>\n",
       "      <td>Gina Bari Kolata</td>\n",
       "      <td>1999</td>\n",
       "      <td>Farrar Straus Giroux</td>\n",
       "    </tr>\n",
       "    <tr>\n",
       "      <th>4</th>\n",
       "      <td>0393045218</td>\n",
       "      <td>The Mummies of Urumchi</td>\n",
       "      <td>E. J. W. Barber</td>\n",
       "      <td>1999</td>\n",
       "      <td>W. W. Norton &amp;amp; Company</td>\n",
       "    </tr>\n",
       "  </tbody>\n",
       "</table>\n",
       "</div>"
      ],
      "text/plain": [
       "         ISBN                                         Book-Title  \\\n",
       "0  0195153448                                Classical Mythology   \n",
       "1  0002005018                                       Clara Callan   \n",
       "2  0060973129                               Decision in Normandy   \n",
       "3  0374157065  Flu: The Story of the Great Influenza Pandemic...   \n",
       "4  0393045218                             The Mummies of Urumchi   \n",
       "\n",
       "            Book-Author  Year-Of-Publication                   Publisher  \n",
       "0    Mark P. O. Morford                 2002     Oxford University Press  \n",
       "1  Richard Bruce Wright                 2001       HarperFlamingo Canada  \n",
       "2          Carlo D'Este                 1991             HarperPerennial  \n",
       "3      Gina Bari Kolata                 1999        Farrar Straus Giroux  \n",
       "4       E. J. W. Barber                 1999  W. W. Norton &amp; Company  "
      ]
     },
     "execution_count": 39,
     "metadata": {},
     "output_type": "execute_result"
    }
   ],
   "source": [
    "# Recheck output - view current column headers and preview\n",
    "\n",
    "df_Books.head()"
   ]
  },
  {
   "cell_type": "code",
   "execution_count": 40,
   "id": "13ae60c4",
   "metadata": {},
   "outputs": [
    {
     "name": "stdout",
     "output_type": "stream",
     "text": [
      "<class 'pandas.core.frame.DataFrame'>\n",
      "Index: 266656 entries, 0 to 271359\n",
      "Data columns (total 5 columns):\n",
      " #   Column               Non-Null Count   Dtype \n",
      "---  ------               --------------   ----- \n",
      " 0   ISBN                 266656 non-null  object\n",
      " 1   Book-Title           266656 non-null  object\n",
      " 2   Book-Author          266656 non-null  object\n",
      " 3   Year-Of-Publication  266656 non-null  int64 \n",
      " 4   Publisher            266656 non-null  object\n",
      "dtypes: int64(1), object(4)\n",
      "memory usage: 12.2+ MB\n"
     ]
    }
   ],
   "source": [
    "# Recheck data types for each column and non-null values\n",
    "\n",
    "df_Books.info()"
   ]
  },
  {
   "cell_type": "markdown",
   "id": "1ba26083",
   "metadata": {},
   "source": [
    "# 04. Data Transformation"
   ]
  },
  {
   "cell_type": "markdown",
   "id": "b48e5427",
   "metadata": {},
   "source": [
    "- New columns / calculations - none to be made at this point\n",
    "- Joining or merging tables - not at this point\n",
    "- Data Profiling Re-checks - N/A\n",
    "\n",
    "TL;DR: No action needed."
   ]
  },
  {
   "cell_type": "markdown",
   "id": "cbbc7b35",
   "metadata": {},
   "source": [
    "# 05. Export Dataframes"
   ]
  },
  {
   "cell_type": "code",
   "execution_count": 41,
   "id": "167c1f4c",
   "metadata": {},
   "outputs": [],
   "source": [
    "# Export df to Dataset folder as cleaned version\n",
    "\n",
    "df_Books.to_csv(os.path.join(projpath, '02 Data','Dataset', 'Books-PREPPED.csv'))\n"
   ]
  }
 ],
 "metadata": {
  "kernelspec": {
   "display_name": "Python 3 (ipykernel)",
   "language": "python",
   "name": "python3"
  },
  "language_info": {
   "codemirror_mode": {
    "name": "ipython",
    "version": 3
   },
   "file_extension": ".py",
   "mimetype": "text/x-python",
   "name": "python",
   "nbconvert_exporter": "python",
   "pygments_lexer": "ipython3",
   "version": "3.11.5"
  }
 },
 "nbformat": 4,
 "nbformat_minor": 5
}
